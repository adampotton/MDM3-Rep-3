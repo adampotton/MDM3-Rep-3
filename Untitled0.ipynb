{
  "nbformat": 4,
  "nbformat_minor": 0,
  "metadata": {
    "colab": {
      "provenance": [],
      "gpuType": "T4",
      "authorship_tag": "ABX9TyNi7Vd7GZtnG96t1I8+g3wb",
      "include_colab_link": true
    },
    "kernelspec": {
      "name": "python3",
      "display_name": "Python 3"
    },
    "language_info": {
      "name": "python"
    },
    "accelerator": "GPU"
  },
  "cells": [
    {
      "cell_type": "markdown",
      "metadata": {
        "id": "view-in-github",
        "colab_type": "text"
      },
      "source": [
        "<a href=\"https://colab.research.google.com/github/adampotton/MDM3-Rep-3/blob/main/Untitled0.ipynb\" target=\"_parent\"><img src=\"https://colab.research.google.com/assets/colab-badge.svg\" alt=\"Open In Colab\"/></a>"
      ]
    },
    {
      "cell_type": "code",
      "execution_count": 1,
      "metadata": {
        "colab": {
          "base_uri": "https://localhost:8080/"
        },
        "id": "E26V-gZa7z7w",
        "outputId": "6512c49b-3a38-48aa-e1e1-465f6b56f35c"
      },
      "outputs": [
        {
          "output_type": "stream",
          "name": "stdout",
          "text": [
            "Drive already mounted at /content/drive; to attempt to forcibly remount, call drive.mount(\"/content/drive\", force_remount=True).\n",
            "/\n",
            "['aerial_pseudotsuga_menziesii', 'aerial_picea_abies', 'aerial_betula_spec', 'aerial_abies_alba', 'aerial_pinus_nigra', 'aerial_larix_decidua', 'aerial_larix_kaempferi', 'aerial_pinus_strobus', 'aerial_pinus_sylvestris', 'aerial_fraxinus_excelsior', 'aerial_fagus_sylvatica', 'aerial_acer_pseudoplatanus', 'aerial_quercus_robur', 'aerial_quercus_petraea', 'aerial_quercus_rubra', 'aerial_tilia_spec', 'aerial_populus_spec', 'aerial_prunus_spec', 'aerial_alnus_spec', 'train_images.npy', 'train_labels.npy', 'test_images.npy', 'test_labels.npy', 'val_images.npy', 'val_labels.npy', 'dog.jpg']\n"
          ]
        }
      ],
      "source": [
        "\n",
        "from google.colab import files, drive\n",
        "drive.mount('/content/drive')\n",
        "import os\n",
        "import numpy as np\n",
        "\n",
        "#if you get an error the first time just run it again\n",
        "os.chdir('../../../')\n",
        "!pwd\n",
        "os.chdir('content')\n",
        "os.chdir(r'drive/MyDrive/Aerial Data')\n",
        "print(os.listdir())\n",
        "\n",
        "train_labels = np.load('train_labels.npy')\n",
        "train_images = np.load('train_images.npy')\n",
        "test_labels = np.load('test_labels.npy')\n",
        "test_images = np.load('test_images.npy')\n",
        "val_labels = np.load('val_labels.npy')\n",
        "val_images = np.load('val_images.npy')"
      ]
    },
    {
      "cell_type": "code",
      "source": [
        "import torch\n",
        "import torch.nn as nn\n",
        "import torch.optim as optim\n",
        "from torch.utils.data import DataLoader, TensorDataset\n",
        "from sklearn.preprocessing import LabelEncoder\n",
        "from tqdm import tqdm"
      ],
      "metadata": {
        "id": "PJG3u3Xe8BOF"
      },
      "execution_count": 2,
      "outputs": []
    },
    {
      "cell_type": "code",
      "source": [
        "# Encode labels to integers\n",
        "label_encoder = LabelEncoder()\n",
        "train_labels_encoded = label_encoder.fit_transform(train_labels)\n",
        "test_labels_encoded = label_encoder.transform(test_labels)\n",
        "val_labels_encoded = label_encoder.transform(val_labels)\n",
        "\n",
        "train_images_tensor = torch.tensor(train_images, dtype=torch.float32)\n",
        "train_labels_tensor = torch.tensor(train_labels_encoded, dtype=torch.long)\n",
        "test_images_tensor = torch.tensor(test_images, dtype=torch.float32)\n",
        "test_labels_tensor = torch.tensor(test_labels_encoded, dtype=torch.long)\n",
        "val_images_tensor = torch.tensor(val_images, dtype=torch.float32)\n",
        "val_labels_tensor = torch.tensor(val_labels_encoded, dtype=torch.long)"
      ],
      "metadata": {
        "id": "Q7yHwrzCPbho"
      },
      "execution_count": 3,
      "outputs": []
    },
    {
      "cell_type": "code",
      "source": [
        "# Move tensors to GPU if available\n",
        "device = torch.device('cuda' if torch.cuda.is_available() else 'cpu')\n",
        "train_images_tensor = train_images_tensor.to(device)\n",
        "train_labels_tensor = train_labels_tensor.to(device)\n",
        "test_images_tensor = test_images_tensor.to(device)\n",
        "test_labels_tensor = test_labels_tensor.to(device)\n",
        "val_images_tensor = val_images_tensor.to(device)\n",
        "val_labels_tensor = val_labels_tensor.to(device)"
      ],
      "metadata": {
        "id": "An0BFcc6NF_W"
      },
      "execution_count": 4,
      "outputs": []
    },
    {
      "cell_type": "code",
      "source": [
        "class SimpleCNN(nn.Module):\n",
        "    def __init__(self, num_classes):\n",
        "        super(SimpleCNN, self).__init__()\n",
        "        self.conv1 = nn.Conv2d(4, 32, kernel_size=3, padding=1)\n",
        "        self.conv2 = nn.Conv2d(32, 64, kernel_size=3, padding=1)\n",
        "        self.pool = nn.MaxPool2d(2, 2)\n",
        "        # Adjust input size based on your image size\n",
        "        self.fc1 = nn.Linear(64 * 76 * 76, 128)\n",
        "        self.fc2 = nn.Linear(128, num_classes)  # 19 classes for your dataset\n",
        "\n",
        "    def forward(self, x):\n",
        "        x = self.pool(torch.relu(self.conv1(x)))\n",
        "        x = self.pool(torch.relu(self.conv2(x)))\n",
        "        # Reshape the tensor instead of using view\n",
        "        x = x.reshape(x.size(0), -1)\n",
        "        x = torch.relu(self.fc1(x))\n",
        "        x = self.fc2(x)\n",
        "        return x\n",
        "\n",
        "# Instantiate the model\n",
        "model = SimpleCNN(num_classes=19)\n",
        "model = model.to(device)\n",
        "\n",
        "# Define loss function and optimizer\n",
        "criterion = nn.CrossEntropyLoss()\n",
        "optimizer = optim.AdamW(model.parameters(), lr=0.001, weight_decay=0.01)  # AdamW with weight decay\n",
        "\n",
        "# Convert your data to PyTorch datasets and dataloaders\n",
        "train_dataset = TensorDataset(train_images_tensor, train_labels_tensor)\n",
        "train_dataloader = DataLoader(train_dataset, batch_size=64, shuffle=True)\n",
        "\n",
        "test_dataset = TensorDataset(test_images_tensor, test_labels_tensor)\n",
        "test_dataloader = DataLoader(test_dataset, batch_size=64, shuffle=True)\n",
        "\n",
        "val_dataset = TensorDataset(val_images_tensor, val_labels_tensor)\n",
        "val_dataloader = DataLoader(val_dataset, batch_size=64, shuffle=True)\n",
        "\n",
        "# Training loop\n",
        "num_epochs = 10\n",
        "best_accuracy = 0  # Keep track of best accuracy on validation set\n",
        "for epoch in range(num_epochs):\n",
        "    model.train()  # Set the model to training mode\n",
        "    running_loss = 0.0\n",
        "    correct = 0\n",
        "    total = 0\n",
        "    with tqdm(train_dataloader, desc=f'Epoch {epoch+1}/{num_epochs}', unit='batch') as t:\n",
        "        for inputs, labels in t:\n",
        "            optimizer.zero_grad()\n",
        "\n",
        "            # Permute the dimensions of the input tensor\n",
        "            inputs = inputs.permute(0, 3, 1, 2)  # [batch_size, height, width, channels] -> [batch_size, channels, height, width]\n",
        "\n",
        "            outputs = model(inputs)\n",
        "\n",
        "            loss = criterion(outputs, labels)\n",
        "            loss.backward()\n",
        "            optimizer.step()\n",
        "            running_loss += loss.item()\n",
        "\n",
        "            # Calculate accuracy\n",
        "            _, predicted = torch.max(outputs, 1)\n",
        "            total += labels.size(0)\n",
        "            correct += (predicted == labels).sum().item()\n",
        "\n",
        "            # Update progress bar with loss and accuracy\n",
        "            t.set_postfix(loss=running_loss/len(train_dataloader), accuracy=100 * correct / total)\n",
        "\n",
        "    # Validation after each epoch\n",
        "    model.eval()  # Set the model to evaluation mode\n",
        "    correct_val = 0\n",
        "    total_val = 0\n",
        "    with torch.no_grad():\n",
        "        for inputs_val, labels_val in val_dataloader:\n",
        "            inputs_val = inputs_val.permute(0, 3, 1, 2)  # Permute the dimensions of the input tensor\n",
        "            outputs_val = model(inputs_val)\n",
        "            _, predicted_val = torch.max(outputs_val, 1)\n",
        "            total_val += labels_val.size(0)\n",
        "            correct_val += (predicted_val == labels_val).sum().item()\n",
        "\n",
        "    accuracy_val = 100 * correct_val / total_val\n",
        "    print(f\"Epoch {epoch+1}/{num_epochs}, Loss: {running_loss/len(train_dataloader)}, Training Accuracy: {100 * correct / total}%, Validation Accuracy: {accuracy_val}%\")\n",
        "\n",
        "    # Check if current validation accuracy is better than the best one so far\n",
        "    if accuracy_val > best_accuracy:\n",
        "        best_accuracy = accuracy_val\n",
        "        # You can save the model here if needed\n",
        "\n",
        "# After training loop, evaluate on the test set\n",
        "model.eval()  # Set the model to evaluation mode\n",
        "correct_test = 0\n",
        "total_test = 0\n",
        "with torch.no_grad():\n",
        "    for inputs_test, labels_test in test_dataloader:\n",
        "        inputs_test = inputs_test.permute(0, 3, 1, 2)  # Permute the dimensions of the input tensor\n",
        "        outputs_test = model(inputs_test)\n",
        "        _, predicted_test = torch.max(outputs_test, 1)\n",
        "        total_test += labels_test.size(0)\n",
        "        correct_test += (predicted_test == labels_test).sum().item()\n",
        "\n",
        "print(f\"Accuracy on test set: {100 * correct_test / total_test:.2f}%\")"
      ],
      "metadata": {
        "colab": {
          "base_uri": "https://localhost:8080/"
        },
        "id": "Y040A3VeoKhu",
        "outputId": "78b4007d-1aaf-475f-bfe4-c2728eb129f9"
      },
      "execution_count": 5,
      "outputs": [
        {
          "output_type": "stream",
          "name": "stderr",
          "text": [
            "Epoch 1/10: 100%|██████████| 58/58 [00:10<00:00,  5.61batch/s, accuracy=13.4, loss=159]\n"
          ]
        },
        {
          "output_type": "stream",
          "name": "stdout",
          "text": [
            "Epoch 1/10, Loss: 159.32543691273392, Training Accuracy: 13.394793926247289%, Validation Accuracy: 14.935064935064934%\n"
          ]
        },
        {
          "output_type": "stream",
          "name": "stderr",
          "text": [
            "Epoch 2/10: 100%|██████████| 58/58 [00:09<00:00,  6.03batch/s, accuracy=15.2, loss=2.62]\n"
          ]
        },
        {
          "output_type": "stream",
          "name": "stdout",
          "text": [
            "Epoch 2/10, Loss: 2.615316863717704, Training Accuracy: 15.238611713665943%, Validation Accuracy: 17.532467532467532%\n"
          ]
        },
        {
          "output_type": "stream",
          "name": "stderr",
          "text": [
            "Epoch 3/10: 100%|██████████| 58/58 [00:09<00:00,  5.97batch/s, accuracy=19.2, loss=2.54]\n"
          ]
        },
        {
          "output_type": "stream",
          "name": "stdout",
          "text": [
            "Epoch 3/10, Loss: 2.5441035278912247, Training Accuracy: 19.197396963123644%, Validation Accuracy: 17.316017316017316%\n"
          ]
        },
        {
          "output_type": "stream",
          "name": "stderr",
          "text": [
            "Epoch 4/10: 100%|██████████| 58/58 [00:09<00:00,  5.91batch/s, accuracy=27.8, loss=2.34]\n"
          ]
        },
        {
          "output_type": "stream",
          "name": "stdout",
          "text": [
            "Epoch 4/10, Loss: 2.343005081702923, Training Accuracy: 27.8470715835141%, Validation Accuracy: 17.532467532467532%\n"
          ]
        },
        {
          "output_type": "stream",
          "name": "stderr",
          "text": [
            "Epoch 5/10: 100%|██████████| 58/58 [00:09<00:00,  5.83batch/s, accuracy=45, loss=1.83]\n"
          ]
        },
        {
          "output_type": "stream",
          "name": "stdout",
          "text": [
            "Epoch 5/10, Loss: 1.8303759180266281, Training Accuracy: 45.03796095444685%, Validation Accuracy: 18.614718614718615%\n"
          ]
        },
        {
          "output_type": "stream",
          "name": "stderr",
          "text": [
            "Epoch 6/10: 100%|██████████| 58/58 [00:09<00:00,  5.85batch/s, accuracy=68.3, loss=1.11]\n"
          ]
        },
        {
          "output_type": "stream",
          "name": "stdout",
          "text": [
            "Epoch 6/10, Loss: 1.1149955504927143, Training Accuracy: 68.30260303687636%, Validation Accuracy: 19.696969696969695%\n"
          ]
        },
        {
          "output_type": "stream",
          "name": "stderr",
          "text": [
            "Epoch 7/10: 100%|██████████| 58/58 [00:09<00:00,  5.83batch/s, accuracy=84.4, loss=0.588]\n"
          ]
        },
        {
          "output_type": "stream",
          "name": "stdout",
          "text": [
            "Epoch 7/10, Loss: 0.5882224425159651, Training Accuracy: 84.35466377440348%, Validation Accuracy: 16.883116883116884%\n"
          ]
        },
        {
          "output_type": "stream",
          "name": "stderr",
          "text": [
            "Epoch 8/10: 100%|██████████| 58/58 [00:09<00:00,  5.90batch/s, accuracy=92.7, loss=0.295]\n"
          ]
        },
        {
          "output_type": "stream",
          "name": "stdout",
          "text": [
            "Epoch 8/10, Loss: 0.29520199910320083, Training Accuracy: 92.7060737527115%, Validation Accuracy: 17.316017316017316%\n"
          ]
        },
        {
          "output_type": "stream",
          "name": "stderr",
          "text": [
            "Epoch 9/10: 100%|██████████| 58/58 [00:09<00:00,  5.93batch/s, accuracy=96.8, loss=0.145]\n"
          ]
        },
        {
          "output_type": "stream",
          "name": "stdout",
          "text": [
            "Epoch 9/10, Loss: 0.1448242538126892, Training Accuracy: 96.82754880694144%, Validation Accuracy: 19.264069264069263%\n"
          ]
        },
        {
          "output_type": "stream",
          "name": "stderr",
          "text": [
            "Epoch 10/10: 100%|██████████| 58/58 [00:09<00:00,  5.88batch/s, accuracy=98.3, loss=0.088]\n"
          ]
        },
        {
          "output_type": "stream",
          "name": "stdout",
          "text": [
            "Epoch 10/10, Loss: 0.08803325310221007, Training Accuracy: 98.34598698481562%, Validation Accuracy: 17.748917748917748%\n",
            "Accuracy on test set: 17.79%\n"
          ]
        }
      ]
    },
    {
      "cell_type": "code",
      "source": [
        "# Training loop\n",
        "# num_epochs = 10\n",
        "# for epoch in range(num_epochs):\n",
        "#     model.train()  # Set the model to training mode\n",
        "#     running_loss = 0.0\n",
        "#     correct = 0\n",
        "#     total = 0\n",
        "#     with tqdm(train_dataloader, desc=f'Epoch {epoch+1}/{num_epochs}', unit='batch') as t:\n",
        "#         for inputs, labels in t:\n",
        "#             optimizer.zero_grad()\n",
        "\n",
        "#             # Permute the dimensions of the input tensor\n",
        "#             inputs = inputs.permute(0, 3, 1, 2)  # [batch_size, height, width, channels] -> [batch_size, channels, height, width]\n",
        "\n",
        "#             outputs = model(inputs)\n",
        "\n",
        "#             loss = criterion(outputs, labels)\n",
        "#             loss.backward()\n",
        "#             optimizer.step()\n",
        "#             running_loss += loss.item()\n",
        "\n",
        "#             # Calculate accuracy\n",
        "#             _, predicted = torch.max(outputs, 1)\n",
        "#             total += labels.size(0)\n",
        "#             correct += (predicted == labels).sum().item()\n",
        "\n",
        "#             # Update progress bar with loss and accuracy\n",
        "#             t.set_postfix(loss=running_loss/len(train_dataloader), accuracy=100 * correct / total)\n",
        "\n",
        "#     print(f\"Epoch {epoch+1}/{num_epochs}, Loss: {running_loss/len(train_dataloader)}, Accuracy: {100 * correct / total}%\")\n",
        "\n",
        "\n",
        "\n",
        "# # Evaluation\n",
        "# model.eval()  # Set the model to evaluation mode\n",
        "# correct = 0\n",
        "# total = 0\n",
        "# with torch.no_grad():\n",
        "#     for inputs, labels in test_dataloader:\n",
        "#         inputs = inputs.permute(0, 3, 1, 2)  # Permute the dimensions of the input tensor\n",
        "#         outputs = model(inputs)\n",
        "#         _, predicted = torch.max(outputs, 1)\n",
        "#         total += labels.size(0)\n",
        "#         correct += (predicted == labels).sum().item()\n",
        "\n",
        "# print(f\"Accuracy on test set: {100 * correct / total:.2f}%\")"
      ],
      "metadata": {
        "id": "onqN-j0Vuk3q"
      },
      "execution_count": null,
      "outputs": []
    }
  ]
}