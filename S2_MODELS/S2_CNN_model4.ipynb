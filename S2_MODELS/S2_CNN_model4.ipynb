{
  "nbformat": 4,
  "nbformat_minor": 0,
  "metadata": {
    "colab": {
      "provenance": [],
      "authorship_tag": "ABX9TyMpTfLG+8LfXXbgfeUd5d5I",
      "include_colab_link": true
    },
    "kernelspec": {
      "name": "python3",
      "display_name": "Python 3"
    },
    "language_info": {
      "name": "python"
    }
  },
  "cells": [
    {
      "cell_type": "markdown",
      "metadata": {
        "id": "view-in-github",
        "colab_type": "text"
      },
      "source": [
        "<a href=\"https://colab.research.google.com/github/adampotton/MDM3-Rep-3/blob/main/S2_MODELS/S2_CNN_model4.ipynb\" target=\"_parent\"><img src=\"https://colab.research.google.com/assets/colab-badge.svg\" alt=\"Open In Colab\"/></a>"
      ]
    },
    {
      "cell_type": "code",
      "execution_count": 1,
      "metadata": {
        "colab": {
          "base_uri": "https://localhost:8080/"
        },
        "id": "_1PwhIeXHdQJ",
        "outputId": "59909a35-d889-40e9-b2d4-68794a475f80"
      },
      "outputs": [
        {
          "output_type": "stream",
          "name": "stdout",
          "text": [
            "Mounted at /content/drive\n"
          ]
        }
      ],
      "source": [
        "import numpy as np\n",
        "from google.colab import files, drive\n",
        "import pandas as pd\n",
        "import torch\n",
        "import torch.nn as nn\n",
        "import torchvision\n",
        "import torch.optim as optim\n",
        "from torch.utils.data import DataLoader, TensorDataset\n",
        "from torch.optim.lr_scheduler import ReduceLROnPlateau\n",
        "import matplotlib.pyplot as plt\n",
        "from sklearn.model_selection import train_test_split\n",
        "drive.mount('/content/drive')"
      ]
    },
    {
      "cell_type": "markdown",
      "source": [
        "#### Load csv of the amount of tree in each sample and choose classifciation mode"
      ],
      "metadata": {
        "id": "9AD_7kmg8xr1"
      }
    },
    {
      "cell_type": "code",
      "source": [
        "# 0 = species level (19 classes)\n",
        "# 1 = genus level (14 classes)\n",
        "# 2 = stand type (9 classes)\n",
        "# 3 = foliage type (2 classes)\n",
        "classification = 0\n",
        "\n",
        "table = pd.read_csv('/content/drive/My Drive/S2 Data/labels.csv')\n",
        "mapping = pd.read_csv('/content/drive/My Drive/S2 Data/tree_mapping.csv')\n",
        "df = pd.DataFrame(mapping)\n",
        "\n",
        "def extract_numbers(filename):\n",
        "    return filename.split('_')[-3].replace('.tif', '')\n",
        "\n",
        "table['File Number'] = table['File Name'].apply(extract_numbers)\n"
      ],
      "metadata": {
        "id": "4yGHMykd8vNX"
      },
      "execution_count": 2,
      "outputs": []
    },
    {
      "cell_type": "markdown",
      "source": [
        "#### Extract only the samples with pretty much just one sample and data split"
      ],
      "metadata": {
        "id": "QFPvHWv9o87T"
      }
    },
    {
      "cell_type": "code",
      "source": [
        "numbers = np.load('/content/drive/My Drive/S2 Data All/numbers.npy')\n",
        "\n",
        "tol = 0.99\n",
        "\n",
        "table_numeric = table.apply(pd.to_numeric, errors='coerce')\n",
        "columns_to_check = table_numeric.columns.difference(['File Number'])\n",
        "filtered_table = table_numeric[(table_numeric[columns_to_check] >= tol).any(axis=1)]\n",
        "\n",
        "indexes = np.where(np.isin(numbers, filtered_table['File Number']))[0]\n",
        "\n",
        "arrays = np.load('/content/drive/My Drive/S2 Data All/arrays.npy')\n",
        "labels = np.load('/content/drive/My Drive/S2 Data All/labels.npy')\n",
        "\n",
        "arrays_reduced = arrays[indexes]\n",
        "labels_reduced = labels[indexes]\n",
        "numbers_reduced = numbers[indexes]\n",
        "\n",
        "train_images, rest_images, train_names, rest_names, train_numbers, rest_numbers = train_test_split(\n",
        "    arrays_reduced, labels_reduced, numbers_reduced, test_size=0.2, random_state=2, stratify=labels_reduced\n",
        ")\n",
        "\n",
        "test_images, val_images, test_names, val_names, test_numbers, val_numbers = train_test_split(\n",
        "    rest_images, rest_names, rest_numbers, test_size=0.5, random_state=2, stratify=rest_names\n",
        ")"
      ],
      "metadata": {
        "id": "OMSZXNAYnIts"
      },
      "execution_count": 25,
      "outputs": []
    },
    {
      "cell_type": "markdown",
      "source": [
        "#### Convert labels array to correct classes and a numbered labels array\n"
      ],
      "metadata": {
        "id": "xldyY39BKGDf"
      }
    },
    {
      "cell_type": "code",
      "source": [
        "def map_tree_name(name, classification):\n",
        "    name = name.replace('_', ' ')\n",
        "    row_number = df.index[df['Species'] == name][0]\n",
        "    if classification == 0:\n",
        "        return name\n",
        "    elif classification == 1:\n",
        "        return df.iloc[row_number, 1]\n",
        "    elif classification == 2:\n",
        "        return df.iloc[row_number, 2]\n",
        "    elif classification == 3:\n",
        "        return df.iloc[row_number, 3]\n",
        "\n",
        "def apply_mapping(names, classification):\n",
        "    return np.array([map_tree_name(name, classification) for name in names])\n",
        "\n",
        "train_names2 = apply_mapping(train_names, classification)\n",
        "test_names2 = apply_mapping(test_names, classification)\n",
        "val_names2 = apply_mapping(val_names, classification)\n",
        "\n",
        "tree_names, train_labels = np.unique(train_names2, return_inverse=True)\n",
        "tree_names, test_labels = np.unique(test_names2, return_inverse=True)\n",
        "tree_names, val_labels = np.unique(val_names2, return_inverse=True)\n",
        "\n",
        "train_images = train_images.astype(np.float32)\n",
        "test_images = test_images.astype(np.float32)\n",
        "val_images = val_images.astype(np.float32)\n",
        "\n",
        "\n",
        "mean = np.mean(np.concatenate([train_images, test_images, val_images], axis=0), axis=(0, 1, 2))\n",
        "std = np.std(np.concatenate([train_images, test_images, val_images], axis=0), axis=(0, 1, 2))\n",
        "\n",
        "train_images = (train_images - mean) / std\n",
        "test_images = (test_images - mean) / std\n",
        "val_images = (val_images - mean) / std\n"
      ],
      "metadata": {
        "id": "6MUeipg_HjRE"
      },
      "execution_count": 4,
      "outputs": []
    },
    {
      "cell_type": "markdown",
      "source": [
        "#### Create Data Loaders\n"
      ],
      "metadata": {
        "id": "XoafB2foKWYA"
      }
    },
    {
      "cell_type": "code",
      "source": [
        "# Convert NumPy arrays to PyTorch tensors\n",
        "train_images_tensor = torch.tensor(train_images, dtype=torch.float32)\n",
        "train_labels_tensor = torch.tensor(train_labels, dtype=torch.long)\n",
        "test_images_tensor = torch.tensor(test_images, dtype=torch.float32)\n",
        "test_labels_tensor = torch.tensor(test_labels, dtype=torch.long)\n",
        "val_images_tensor = torch.tensor(val_images, dtype=torch.float32)\n",
        "val_labels_tensor = torch.tensor(val_labels, dtype=torch.long)\n",
        "\n",
        "batch_size = 64\n",
        "\n",
        "# Create PyTorch datasets and dataloaders\n",
        "train_dataset = TensorDataset(train_images_tensor, train_labels_tensor)\n",
        "test_dataset = TensorDataset(test_images_tensor, test_labels_tensor)\n",
        "val_dataset = TensorDataset(val_images_tensor, val_labels_tensor)\n",
        "train_loader = DataLoader(train_dataset, batch_size=batch_size, shuffle=True)\n",
        "test_loader = DataLoader(test_dataset, batch_size=batch_size, shuffle=True)\n",
        "val_loader = DataLoader(val_dataset, batch_size=batch_size, shuffle=True)"
      ],
      "metadata": {
        "id": "REQRFpMoIrVw"
      },
      "execution_count": 5,
      "outputs": []
    },
    {
      "cell_type": "markdown",
      "source": [
        "#### Define the Model, and other parameters"
      ],
      "metadata": {
        "id": "pYrjWrBiysYg"
      }
    },
    {
      "cell_type": "code",
      "source": [
        "\n",
        "num_channels = 12\n",
        "num_classes = len(tree_names)\n",
        "learning_rate = 0.001\n",
        "\n",
        "model = nn.Sequential(\n",
        "    nn.Conv2d(num_channels, 32, kernel_size=3, padding=1),\n",
        "    nn.BatchNorm2d(32),\n",
        "    nn.ReLU(),\n",
        "    nn.MaxPool2d(2),\n",
        "    nn.Dropout(0.2),\n",
        "\n",
        "    nn.Conv2d(32, 64, kernel_size=3, padding=1),\n",
        "    nn.BatchNorm2d(64),\n",
        "    nn.ReLU(),\n",
        "    nn.MaxPool2d(2),\n",
        "    nn.Dropout(0.2),\n",
        "\n",
        "    nn.Conv2d(64, 64, kernel_size=3, padding=1),\n",
        "    nn.BatchNorm2d(64),\n",
        "    nn.ReLU(),\n",
        "    nn.Flatten(),\n",
        "    nn.Linear(64 * 1 * 1, 256),\n",
        "    nn.ReLU(),\n",
        "    nn.Dropout(0.2),\n",
        "\n",
        "    nn.Linear(256, 128),\n",
        "    nn.ReLU(),\n",
        "    nn.Linear(128, num_classes)\n",
        ")\n",
        "\n",
        "device = torch.device(\"cuda\" if torch.cuda.is_available() else \"cpu\")\n",
        "model = model.to(device)\n",
        "\n",
        "optimizer = optim.AdamW(model.parameters(), lr=learning_rate, weight_decay=0.00005)\n",
        "criterion = nn.CrossEntropyLoss()\n",
        "scheduler = ReduceLROnPlateau(optimizer, mode='min', factor=0.8, patience=2)"
      ],
      "metadata": {
        "id": "vDNVj-0mkHwr"
      },
      "execution_count": 6,
      "outputs": []
    },
    {
      "cell_type": "markdown",
      "source": [
        "#### Train, test, and validate, plotting validation loss"
      ],
      "metadata": {
        "id": "LQvs2GxMyyIo"
      }
    },
    {
      "cell_type": "code",
      "source": [
        "def train():\n",
        "    model.train()\n",
        "    all_logits = []\n",
        "    for images, labels in train_loader:\n",
        "        images = images.to(device)\n",
        "        labels = labels.to(device)\n",
        "\n",
        "        logits = model(images.permute(0, 3, 1, 2))\n",
        "\n",
        "        loss = criterion(logits, labels)\n",
        "\n",
        "        optimizer.zero_grad()\n",
        "        loss.backward()\n",
        "        optimizer.step()\n",
        "\n",
        "\n",
        "def validation(epoch):\n",
        "    model.eval()\n",
        "    with torch.no_grad():\n",
        "        val_loss = 0.0\n",
        "        correct = 0\n",
        "        total = 0\n",
        "        for images, labels in test_loader:\n",
        "            images = images.to(device)\n",
        "            labels = labels.to(device)\n",
        "\n",
        "            logits = model(images.permute(0, 3, 1, 2))\n",
        "\n",
        "            loss = criterion(logits, labels)\n",
        "            val_loss += loss.item()\n",
        "\n",
        "            predicted = torch.argmax(logits, dim=1)\n",
        "            correct += (predicted == labels).sum().item()\n",
        "            total += labels.size(0)\n",
        "            accuracy = 100 * correct / total\n",
        "\n",
        "        val_loss /= len(test_loader)\n",
        "        scheduler.step(val_loss)\n",
        "\n",
        "        if (epoch + 1) % 2 == 0:\n",
        "            print(f'Validation accuracy after {epoch+1} epochs: {accuracy:.2f}%')\n",
        "    return val_loss\n",
        "\n",
        "def test():\n",
        "    model.eval()\n",
        "    with torch.no_grad():\n",
        "        correct = 0\n",
        "        total = 0\n",
        "        for images, labels in test_loader:\n",
        "            images = images.to(device)\n",
        "            labels = labels.to(device)\n",
        "\n",
        "            logits = model(images.permute(0, 3, 1, 2))\n",
        "\n",
        "            predicted = torch.argmax(logits, dim=1)\n",
        "            correct += (predicted == labels).sum().item()\n",
        "            total += labels.size(0)\n",
        "            accuracy = 100 * correct / total\n",
        "        print(f'Test accuracy {100 * correct / total:.2f}%')\n",
        "\n",
        "num_epochs = 20\n",
        "val_losses = []\n",
        "for epoch in range(num_epochs):\n",
        "    train()\n",
        "    val_loss = validation(epoch)\n",
        "    val_losses.append(val_loss)\n",
        "test()\n",
        "\n",
        "plt.plot(val_losses, label='Validation Loss')\n",
        "plt.xlabel('Epoch')\n",
        "plt.ylabel('Loss')\n",
        "plt.title('Validation Loss over Epochs')\n",
        "plt.legend()\n",
        "plt.show()"
      ],
      "metadata": {
        "colab": {
          "base_uri": "https://localhost:8080/",
          "height": 659
        },
        "id": "9t58_XuLmovi",
        "outputId": "ca80d50a-0b39-4e53-a98c-90738582af02"
      },
      "execution_count": 8,
      "outputs": [
        {
          "output_type": "stream",
          "name": "stdout",
          "text": [
            "Validation accuracy after 2 epochs: 68.47%\n",
            "Validation accuracy after 4 epochs: 68.63%\n",
            "Validation accuracy after 6 epochs: 68.58%\n",
            "Validation accuracy after 8 epochs: 68.41%\n",
            "Validation accuracy after 10 epochs: 68.86%\n",
            "Validation accuracy after 12 epochs: 68.86%\n",
            "Validation accuracy after 14 epochs: 68.63%\n",
            "Validation accuracy after 16 epochs: 68.52%\n",
            "Validation accuracy after 18 epochs: 67.85%\n",
            "Validation accuracy after 20 epochs: 68.07%\n",
            "Test accuracy 68.07%\n"
          ]
        },
        {
          "output_type": "display_data",
          "data": {
            "text/plain": [
              "<Figure size 640x480 with 1 Axes>"
            ],
            "image/png": "[encoded data removed]"
          },
          "metadata": {}
        }
      ]
    },
    {
      "cell_type": "markdown",
      "source": [
        "#### Extract all logits form all images (after filtering)"
      ],
      "metadata": {
        "id": "uqA3YdYAIu0m"
      }
    },
    {
      "cell_type": "code",
      "source": [
        "all_arrays = arrays_reduced\n",
        "all_labels = apply_mapping(labels_reduced, classification)\n",
        "all_numbers = numbers_reduced\n",
        "\n",
        "_, all_labels_numeric = np.unique(all_labels, return_inverse=True)\n",
        "all_images = all_arrays.astype(np.float32)\n",
        "\n",
        "mean = np.mean(all_images, axis=(0, 1, 2))\n",
        "std = np.std(all_images, axis=(0, 1, 2))\n",
        "all_images = (all_images - mean) / std\n",
        "\n",
        "all_images_tensor = torch.tensor(all_images, dtype=torch.float32)\n",
        "all_labels_tensor = torch.tensor(all_labels_numeric, dtype=torch.long)\n",
        "\n",
        "all_dataset = TensorDataset(all_images_tensor, all_labels_tensor)\n",
        "all_loader = DataLoader(all_dataset, batch_size=batch_size, shuffle=False)\n",
        "\n",
        "\n",
        "def logit_extract():\n",
        "    model.eval()\n",
        "    all_logits = []\n",
        "    with torch.no_grad():\n",
        "\n",
        "        for images, labels in all_loader:\n",
        "            images = images.to(device)\n",
        "            labels = labels.to(device)\n",
        "\n",
        "            logits = model(images.permute(0, 3, 1, 2))\n",
        "            all_logits.append(logits)\n",
        "\n",
        "        all_logits = torch.cat(all_logits, dim=0)\n",
        "\n",
        "    return all_logits\n",
        "\n",
        "all_logits = logit_extract()\n"
      ],
      "metadata": {
        "id": "offDSsmdAqs4"
      },
      "execution_count": 51,
      "outputs": []
    },
    {
      "cell_type": "code",
      "source": [
        "i = 1888\n",
        "\n",
        "print(\"\\nPredicted class for index\", i, \":\",np.array(torch.argmax(all_logits[i], dim=0)))\n",
        "\n",
        "print(\"\\nTrue label for index\", i, \":\",all_labels_numeric[i],all_labels[i])\n",
        "\n",
        "print(\"\\nCorresponding number:\", all_numbers[i])\n",
        "\n"
      ],
      "metadata": {
        "id": "ib8o1Do3I6Eh",
        "outputId": "045e7c02-463f-4cc2-d161-62abe0aa2626",
        "colab": {
          "base_uri": "https://localhost:8080/"
        }
      },
      "execution_count": 98,
      "outputs": [
        {
          "output_type": "stream",
          "name": "stdout",
          "text": [
            "\n",
            "Predicted class for index 1888 : 3\n",
            "\n",
            "True label for index 1888 : 3 Betula spec.\n",
            "\n",
            "Corresponding number: 19997\n"
          ]
        }
      ]
    }
  ]
}