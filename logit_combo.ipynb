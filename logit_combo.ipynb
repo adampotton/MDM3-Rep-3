{
  "nbformat": 4,
  "nbformat_minor": 0,
  "metadata": {
    "colab": {
      "provenance": [],
      "authorship_tag": "ABX9TyMF1Z6W5m/AD6iqAomlvMuB",
      "include_colab_link": true
    },
    "kernelspec": {
      "name": "python3",
      "display_name": "Python 3"
    },
    "language_info": {
      "name": "python"
    }
  },
  "cells": [
    {
      "cell_type": "markdown",
      "metadata": {
        "id": "view-in-github",
        "colab_type": "text"
      },
      "source": [
        "<a href=\"https://colab.research.google.com/github/adampotton/MDM3-Rep-3/blob/main/logit_combo.ipynb\" target=\"_parent\"><img src=\"https://colab.research.google.com/assets/colab-badge.svg\" alt=\"Open In Colab\"/></a>"
      ]
    },
    {
      "cell_type": "code",
      "execution_count": 2,
      "metadata": {
        "colab": {
          "base_uri": "https://localhost:8080/"
        },
        "id": "P8FLonExnhTV",
        "outputId": "07fbbcca-00fe-44bd-b5ef-bdcc48fe7bd1"
      },
      "outputs": [
        {
          "output_type": "stream",
          "name": "stdout",
          "text": [
            "Mounted at /content/drive\n"
          ]
        }
      ],
      "source": [
        "import numpy as np\n",
        "from google.colab import files, drive\n",
        "import json\n",
        "drive.mount('/content/drive')"
      ]
    },
    {
      "cell_type": "markdown",
      "source": [
        "### Load everything"
      ],
      "metadata": {
        "id": "7R8XcL8Hn0DH"
      }
    },
    {
      "cell_type": "code",
      "source": [
        "S2_logits = np.load('/content/drive/My Drive/Aerial Data/S2_99_logits.npy')\n",
        "A_logits = np.load('/content/drive/My Drive/Aerial Data/aerial_99_logits.npy')\n",
        "\n",
        "with open('/content/drive/My Drive/Aerial Data/Both Imagery/datapoints.json', 'r') as f:\n",
        "    data = json.load(f)\n",
        "\n",
        "A_logits = A_logits[[item[2] for item in data]]"
      ],
      "metadata": {
        "id": "Fp92qv3wnvE2"
      },
      "execution_count": 9,
      "outputs": []
    },
    {
      "cell_type": "code",
      "source": [
        "i = 99\n",
        "\n",
        "max_index_S2 = np.argmax(S2_logits[i])\n",
        "max_index_A = np.argmax(A_logits[i])\n",
        "\n",
        "print(\"Position of max in S2_logits:\", max_index_S2)\n",
        "print(\"Position of max in A_logits:\", max_index_A)"
      ],
      "metadata": {
        "colab": {
          "base_uri": "https://localhost:8080/"
        },
        "id": "UmN6CE7soSaD",
        "outputId": "ca3f5494-76a0-4e00-a072-feac6ce9251f"
      },
      "execution_count": 14,
      "outputs": [
        {
          "output_type": "stream",
          "name": "stdout",
          "text": [
            "Position of max in S2_logits: 11\n",
            "Position of max in A_logits: 11\n"
          ]
        }
      ]
    }
  ]
}