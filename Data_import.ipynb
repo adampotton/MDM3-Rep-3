{
  "nbformat": 4,
  "nbformat_minor": 0,
  "metadata": {
    "colab": {
      "provenance": [],
      "authorship_tag": "ABX9TyPfZ/Korm8MBap8kPq3xe5B",
      "include_colab_link": true
    },
    "kernelspec": {
      "name": "python3",
      "display_name": "Python 3"
    },
    "language_info": {
      "name": "python"
    }
  },
  "cells": [
    {
      "cell_type": "markdown",
      "metadata": {
        "id": "view-in-github",
        "colab_type": "text"
      },
      "source": [
        "<a href=\"https://colab.research.google.com/github/adampotton/MDM3-Rep-3/blob/main/Data_import.ipynb\" target=\"_parent\"><img src=\"https://colab.research.google.com/assets/colab-badge.svg\" alt=\"Open In Colab\"/></a>"
      ]
    },
    {
      "cell_type": "code",
      "execution_count": 2,
      "metadata": {
        "colab": {
          "base_uri": "https://localhost:8080/"
        },
        "id": "2tjy8E6f-vL2",
        "outputId": "9fc59125-e1d7-4cc1-90ae-5933419c0b87"
      },
      "outputs": [
        {
          "output_type": "stream",
          "name": "stdout",
          "text": [
            "Mounted at /content/drive\n"
          ]
        }
      ],
      "source": [
        "from google.colab import files, drive\n",
        "drive.mount('/content/drive')\n",
        "import os\n",
        "import numpy as np\n",
        "from tifffile import imread\n",
        "from sklearn.model_selection import train_test_split"
      ]
    },
    {
      "cell_type": "code",
      "source": [
        "# IMPORTING .TIF FILES\n",
        "\n",
        "tree_names = ['pinus_nigra']\n",
        "samples_per_class = 150\n",
        "\n",
        "S1_arrays_dict = {}\n",
        "S2_arrays_dict = {}\n",
        "aerial_arrays_dict = {}\n",
        "\n",
        "for tree_name in tree_names:\n",
        "\n",
        "    S1_path = os.path.join('/content/drive/MyDrive/', 'S1_60m_' + tree_name)\n",
        "    S2_path = os.path.join('/content/drive/MyDrive/', 'S2_60m_' + tree_name)\n",
        "    aerial_path = os.path.join('/content/drive/MyDrive/', 'aerial_60m_' + tree_name)\n",
        "\n",
        "    S1_files = [file for file in os.listdir(S1_path) if file.endswith('.tif')][:samples_per_class]\n",
        "    S2_files = [file for file in os.listdir(S2_path) if file.endswith('.tif')][:samples_per_class]\n",
        "    aerial_files = [file for file in os.listdir(aerial_path) if file.endswith('.tif')][:samples_per_class]\n",
        "\n",
        "    S1_arrays = []\n",
        "    for file in S1_files:\n",
        "        S1_array = imread(os.path.join(S1_path, file))\n",
        "        S1_arrays.append(S1_array)\n",
        "    S1_arrays_dict[tree_name] = np.stack(S1_arrays)\n",
        "\n",
        "    S2_arrays = []\n",
        "    for file in S2_files:\n",
        "        S2_array = imread(os.path.join(S2_path, file))\n",
        "        S2_arrays.append(S2_array)\n",
        "    S2_arrays_dict[tree_name] = np.stack(S2_arrays)\n",
        "\n",
        "    aerial_arrays = []\n",
        "    for file in aerial_files:\n",
        "        aerial_array = imread(os.path.join(aerial_path, file))\n",
        "        aerial_arrays.append(aerial_array)\n",
        "    aerial_arrays_dict[tree_name] = np.stack(aerial_arrays)"
      ],
      "metadata": {
        "id": "frZo0DjonBrj"
      },
      "execution_count": 18,
      "outputs": []
    },
    {
      "cell_type": "code",
      "source": [
        "# CREATING ARRAYS FOR CNN\n",
        "\n",
        "# Create data arrays\n",
        "S1_arrays = []\n",
        "S2_arrays = []\n",
        "aerial_arrays = []\n",
        "\n",
        "for tree_name in tree_names:\n",
        "    S1_arrays.append(S1_arrays_dict[tree_name])\n",
        "    S2_arrays.append(S2_arrays_dict[tree_name])\n",
        "    aerial_arrays.append(aerial_arrays_dict[tree_name])\n",
        "\n",
        "S1_data = np.concatenate(S1_arrays, axis=0)\n",
        "S2_data = np.concatenate(S2_arrays, axis=0)\n",
        "aerial_data = np.concatenate(aerial_arrays, axis=0)\n",
        "\n",
        "# Create label arrays\n",
        "labels_dict = {tree_name: i for i, tree_name in enumerate(tree_names)}\n",
        "\n",
        "S1_labels = []\n",
        "S2_labels = []\n",
        "aerial_labels = []\n",
        "\n",
        "for tree_name in tree_names:\n",
        "    num_files = len(S1_arrays_dict[tree_name])\n",
        "    label = labels_dict[tree_name]\n",
        "    S1_labels.extend([label] * num_files)\n",
        "    S2_labels.extend([label] * num_files)\n",
        "    aerial_labels.extend([label] * num_files)\n",
        "\n",
        "S1_labels = np.array(S1_labels)\n",
        "S2_labels = np.array(S2_labels)\n",
        "aerial_labels = np.array(aerial_labels)"
      ],
      "metadata": {
        "id": "GA5U_QglpJow"
      },
      "execution_count": 17,
      "outputs": []
    },
    {
      "cell_type": "code",
      "source": [],
      "metadata": {
        "id": "RxL6RF3Vrnri"
      },
      "execution_count": null,
      "outputs": []
    }
  ]
}