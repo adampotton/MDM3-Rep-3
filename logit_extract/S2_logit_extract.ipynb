{
  "nbformat": 4,
  "nbformat_minor": 0,
  "metadata": {
    "colab": {
      "provenance": [],
      "authorship_tag": "ABX9TyMVPjjz6YpvUsnsoIBKA/5m",
      "include_colab_link": true
    },
    "kernelspec": {
      "name": "python3",
      "display_name": "Python 3"
    },
    "language_info": {
      "name": "python"
    }
  },
  "cells": [
    {
      "cell_type": "markdown",
      "metadata": {
        "id": "view-in-github",
        "colab_type": "text"
      },
      "source": [
        "<a href=\"https://colab.research.google.com/github/adampotton/MDM3-Rep-3/blob/main/logit_extract/S2_logit_extract.ipynb\" target=\"_parent\"><img src=\"https://colab.research.google.com/assets/colab-badge.svg\" alt=\"Open In Colab\"/></a>"
      ]
    },
    {
      "cell_type": "code",
      "source": [
        "import json\n",
        "import torch\n",
        "import numpy as np\n",
        "from google.colab import files, drive\n",
        "from torch.utils.data import DataLoader, TensorDataset\n",
        "drive.mount('/content/drive')"
      ],
      "metadata": {
        "colab": {
          "base_uri": "https://localhost:8080/"
        },
        "id": "bEVPMjQDLUue",
        "outputId": "5777d2ce-f624-4b6e-ad8d-b86b54f797f1"
      },
      "execution_count": 17,
      "outputs": [
        {
          "output_type": "stream",
          "name": "stdout",
          "text": [
            "Drive already mounted at /content/drive; to attempt to forcibly remount, call drive.mount(\"/content/drive\", force_remount=True).\n"
          ]
        }
      ]
    },
    {
      "cell_type": "markdown",
      "source": [
        "### Load S2 Data"
      ],
      "metadata": {
        "id": "CX5QwEeqPiV5"
      }
    },
    {
      "cell_type": "code",
      "execution_count": 5,
      "metadata": {
        "id": "btGNxlqyLKk-"
      },
      "outputs": [],
      "source": [
        "with open('/content/drive/My Drive/Aerial Data/Both Imagery/datapoints.json', 'r') as f:\n",
        "    data = json.load(f)\n",
        "\n",
        "S2_arrays = np.load('/content/drive/My Drive/Aerial Data/Both Imagery/arrays.npy')\n",
        "S2_arrays_cut = S2_arrays[[item[5] for item in data]]"
      ]
    },
    {
      "cell_type": "markdown",
      "source": [
        "### Load S2 Model"
      ],
      "metadata": {
        "id": "lYnyQmV0Pk4s"
      }
    },
    {
      "cell_type": "code",
      "source": [
        "import torch.nn as nn\n",
        "\n",
        "num_channels = 12\n",
        "num_classes = 19\n",
        "\n",
        "model = nn.Sequential(\n",
        "    nn.Conv2d(num_channels, 32, kernel_size=3, padding=1),\n",
        "    nn.BatchNorm2d(32),\n",
        "    nn.ReLU(),\n",
        "    nn.MaxPool2d(2),\n",
        "    nn.Dropout(0.2),\n",
        "\n",
        "    nn.Conv2d(32, 64, kernel_size=3, padding=1),\n",
        "    nn.BatchNorm2d(64),\n",
        "    nn.ReLU(),\n",
        "    nn.MaxPool2d(2),\n",
        "    nn.Dropout(0.2),\n",
        "\n",
        "    nn.Conv2d(64, 64, kernel_size=3, padding=1),\n",
        "    nn.BatchNorm2d(64),\n",
        "    nn.ReLU(),\n",
        "    nn.Flatten(),\n",
        "    nn.Linear(64 * 1 * 1, 256),\n",
        "    nn.ReLU(),\n",
        "    nn.Dropout(0.2),\n",
        "\n",
        "    nn.Linear(256, 128),\n",
        "    nn.ReLU(),\n",
        "    nn.Linear(128, num_classes)\n",
        ")\n",
        "\n",
        "state_dict = torch.load(\"/content/drive/My Drive/S2 Data All/training_run_1_filtered_data_19.pth\")\n",
        "model.load_state_dict(state_dict)\n",
        "device = torch.device(\"cuda\" if torch.cuda.is_available() else \"cpu\")\n",
        "model = model.to(device)"
      ],
      "metadata": {
        "id": "zBjgHccVPHgl"
      },
      "execution_count": 18,
      "outputs": []
    },
    {
      "cell_type": "markdown",
      "source": [
        "### Extract logtis"
      ],
      "metadata": {
        "id": "9V8nNyZVPnIv"
      }
    },
    {
      "cell_type": "code",
      "source": [
        "_, all_labels_numeric = np.unique([item[4] for item in data], return_inverse=True)\n",
        "all_images_tensor = torch.tensor(S2_arrays_cut.astype(np.float32), dtype=torch.float32)\n",
        "all_labels_tensor = torch.tensor(all_labels_numeric, dtype=torch.long)\n",
        "\n",
        "all_dataset = TensorDataset(all_images_tensor, all_labels_tensor)\n",
        "all_loader = DataLoader(all_dataset, batch_size=64, shuffle=False)\n",
        "\n",
        "device = torch.device(\"cuda\" if torch.cuda.is_available() else \"cpu\")\n",
        "model = model.to(device)\n",
        "\n",
        "def logit_extract():\n",
        "    model.eval()\n",
        "    all_logits = []\n",
        "    with torch.no_grad():\n",
        "\n",
        "        for images, labels in all_loader:\n",
        "            images = images.to(device)\n",
        "            labels = labels.to(device)\n",
        "\n",
        "            logits = model(images.permute(0, 3, 1, 2))\n",
        "            all_logits.append(logits)\n",
        "\n",
        "        all_logits = torch.cat(all_logits, dim=0)\n",
        "\n",
        "    return all_logits\n",
        "\n",
        "all_logits = logit_extract()"
      ],
      "metadata": {
        "id": "C5B6cx15MC79"
      },
      "execution_count": 19,
      "outputs": []
    }
  ]
}