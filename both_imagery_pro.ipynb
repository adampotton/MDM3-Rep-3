{
  "nbformat": 4,
  "nbformat_minor": 0,
  "metadata": {
    "colab": {
      "provenance": [],
      "authorship_tag": "ABX9TyOKYwWLb9TtTYQ/ov5nHKEl",
      "include_colab_link": true
    },
    "kernelspec": {
      "name": "python3",
      "display_name": "Python 3"
    },
    "language_info": {
      "name": "python"
    }
  },
  "cells": [
    {
      "cell_type": "markdown",
      "metadata": {
        "id": "view-in-github",
        "colab_type": "text"
      },
      "source": [
        "<a href=\"https://colab.research.google.com/github/adampotton/MDM3-Rep-3/blob/main/both_imagery_pro.ipynb\" target=\"_parent\"><img src=\"https://colab.research.google.com/assets/colab-badge.svg\" alt=\"Open In Colab\"/></a>"
      ]
    },
    {
      "cell_type": "code",
      "execution_count": 1,
      "metadata": {
        "colab": {
          "base_uri": "https://localhost:8080/"
        },
        "id": "HVGG9fQjh6Dw",
        "outputId": "bbf509cc-17dd-4439-b7ae-cb2836dacbad"
      },
      "outputs": [
        {
          "output_type": "stream",
          "name": "stdout",
          "text": [
            "Drive already mounted at /content/drive; to attempt to forcibly remount, call drive.mount(\"/content/drive\", force_remount=True).\n"
          ]
        }
      ],
      "source": [
        "import numpy as np\n",
        "from google.colab import files, drive\n",
        "import pandas as pd\n",
        "import torch\n",
        "import torch.nn as nn\n",
        "import torchvision\n",
        "import torch.optim as optim\n",
        "from torch.utils.data import DataLoader, TensorDataset\n",
        "from torch.optim.lr_scheduler import ReduceLROnPlateau\n",
        "import matplotlib.pyplot as plt\n",
        "from sklearn.model_selection import train_test_split\n",
        "drive.mount('/content/drive')"
      ]
    },
    {
      "cell_type": "markdown",
      "source": [
        "### S2 model process"
      ],
      "metadata": {
        "id": "Yi9zscYwo2K9"
      }
    },
    {
      "cell_type": "code",
      "source": [
        "table = pd.read_csv('/content/drive/My Drive/S2 Data/labels.csv')\n",
        "mapping = pd.read_csv('/content/drive/My Drive/S2 Data/tree_mapping.csv')\n",
        "df = pd.DataFrame(mapping)\n",
        "numbers = np.load('/content/drive/My Drive/S2 Data All/numbers.npy')\n",
        "arrays = np.load('/content/drive/My Drive/S2 Data All/arrays.npy')\n",
        "labels = np.load('/content/drive/My Drive/S2 Data All/labels.npy')\n",
        "\n",
        "def extract_numbers(filename):\n",
        "    return filename.split('_')[-3].replace('.tif', '')\n",
        "\n",
        "table['File Number'] = table['File Name'].apply(extract_numbers)\n",
        "\n",
        "tol = 0.99\n",
        "\n",
        "table_numeric = table.apply(pd.to_numeric, errors='coerce')\n",
        "columns_to_check = table_numeric.columns.difference(['File Number'])\n",
        "filtered_table = table_numeric[(table_numeric[columns_to_check] >= tol).any(axis=1)]\n",
        "\n",
        "indexes = np.where(np.isin(numbers, filtered_table['File Number']))[0]\n",
        "\n",
        "arrays_S2 = arrays[indexes]\n",
        "labels_S2 = labels[indexes]\n",
        "numbers_S2 = numbers[indexes]\n",
        "numbers_S2 = np.array(numbers_S2, dtype=int)\n"
      ],
      "metadata": {
        "id": "LUuXT6wGh8Bc"
      },
      "execution_count": 2,
      "outputs": []
    },
    {
      "cell_type": "markdown",
      "source": [
        "### Aerial imagery"
      ],
      "metadata": {
        "id": "a5kH0DkapBRo"
      }
    },
    {
      "cell_type": "code",
      "source": [
        "# arrays_A = np.load('/content/drive/My Drive/Aerial Data/aerial_99_images.npy')\n",
        "arrays_A_fill = np.arange(17618)\n",
        "labels_A = np.load('/content/drive/My Drive/Aerial Data/aerial_99_labels.npy')\n",
        "numbers_A = np.load('/content/drive/My Drive/Aerial Data/aerial_99_numbers.npy')"
      ],
      "metadata": {
        "id": "c33e3nf6jCRt"
      },
      "execution_count": 3,
      "outputs": []
    },
    {
      "cell_type": "markdown",
      "source": [
        "### Getting Data Points"
      ],
      "metadata": {
        "id": "s1ADAkKgrQFH"
      }
    },
    {
      "cell_type": "code",
      "source": [
        "import random\n",
        "\n",
        "n = 17000\n",
        "datapoints = []\n",
        "\n",
        "for _ in range(n):\n",
        "    number_index = random.randint(0, len(numbers_A) - 1)\n",
        "\n",
        "    number_A = numbers_A[number_index]\n",
        "    label_A = labels_A[number_index]\n",
        "    array_A = arrays_A_fill[number_index]\n",
        "\n",
        "    index_S2 = np.where(numbers_S2 == number_A)[0]\n",
        "\n",
        "    if len(index_S2) == 0:\n",
        "        continue\n",
        "\n",
        "    index_S2 = index_S2[0]\n",
        "    label_S2 = labels_S2[index_S2]\n",
        "    array_S2 = arrays_S2[index_S2]\n",
        "\n",
        "    numbers_S2 = np.delete(numbers_S2, index_S2)\n",
        "    labels_S2 = np.delete(labels_S2, index_S2)\n",
        "    arrays_S2 = np.delete(arrays_S2, index_S2, axis=0)\n",
        "\n",
        "    numbers_A = np.delete(numbers_A, number_index)\n",
        "    labels_A = np.delete(labels_A, number_index)\n",
        "    arrays_A_fill = np.delete(arrays_A_fill, number_index)\n",
        "\n",
        "    datapoints.append((number_A, label_A, array_A, number_A, label_S2, array_S2))\n",
        "\n"
      ],
      "metadata": {
        "id": "Xu4slYNNUopu"
      },
      "execution_count": null,
      "outputs": []
    },
    {
      "cell_type": "code",
      "source": [
        "i = 0\n",
        "print(datapoints[i])"
      ],
      "metadata": {
        "colab": {
          "base_uri": "https://localhost:8080/"
        },
        "id": "Ew8j_2Rzs44a",
        "outputId": "9e80ff86-8c8f-42da-cb12-5f84394c8b36"
      },
      "execution_count": 44,
      "outputs": [
        {
          "output_type": "stream",
          "name": "stdout",
          "text": [
            "(46057, 'Picea_abies', 8497, 46057, 'Picea_abies', array([[[  91,  198,   86, 1375,  401, 1447, 1659, 1695,  700,  316,\n",
            "           97, 2291],\n",
            "        [ 121,  225,  137, 1741,  437, 1609, 2363, 2438,  958,  475,\n",
            "          114, 2287],\n",
            "        [  78,  168,   72, 1391,  433, 1596, 2328, 2426,  936,  457,\n",
            "           90, 2271],\n",
            "        [ 106,  224,  120, 1433,  504, 1622, 1988, 2614, 1049,  425,\n",
            "          118, 2121],\n",
            "        [  95,  330,  145, 2229,  490, 1609, 1994, 2607, 1029,  413,\n",
            "          108, 2091],\n",
            "        [  94,  222,  132, 1876,  429, 1689, 1868, 1992,  876,  386,\n",
            "          123, 2110]],\n",
            "\n",
            "       [[  90,  190,  101, 1488,  297, 1197, 1458, 1619,  557,  215,\n",
            "          105, 1493],\n",
            "        [  75,  175,  104, 1651,  309, 1311, 1498, 1787,  655,  298,\n",
            "          122, 1517],\n",
            "        [  80,  183,   82, 1651,  277, 1288, 1477, 1766,  637,  286,\n",
            "           98, 1506],\n",
            "        [  94,  201,   83, 1558,  307, 1325, 1493, 1547,  640,  291,\n",
            "          125, 1912],\n",
            "        [  63,  217,   85, 1598,  296, 1303, 1489, 1519,  617,  271,\n",
            "          115, 1892],\n",
            "        [  85,  179,  111, 1352,  381, 1368, 1728, 1722,  728,  373,\n",
            "          130, 1908]],\n",
            "\n",
            "       [[ 136,  257,  139, 1835,  309, 1223, 1477, 1630,  571,  237,\n",
            "          114, 1522],\n",
            "        [ 119,  240,  158, 2009,  322, 1320, 1501, 1789,  656,  296,\n",
            "          131, 1533],\n",
            "        [  77,  216,  109, 1872,  315, 1306, 1484, 1764,  654,  296,\n",
            "          106, 1517],\n",
            "        [  84,  203,  111, 1616,  319, 1341, 1510, 1543,  634,  302,\n",
            "          134, 1923],\n",
            "        [  80,  194,   92, 1616,  291, 1325, 1487, 1518,  624,  285,\n",
            "          123, 1898],\n",
            "        [  82,  200,  122, 1679,  405, 1369, 1740, 1714,  747,  385,\n",
            "          138, 1921]],\n",
            "\n",
            "       [[ 117,  226,  119, 1865,  280, 1161, 1632, 1676,  545,  243,\n",
            "          114, 1522],\n",
            "        [ 101,  255,  144, 2081,  275, 1008, 1351, 1706,  574,  237,\n",
            "          128, 1536],\n",
            "        [  65,  166,   93, 1768,  252,  998, 1335, 1692,  553,  221,\n",
            "          103, 1530],\n",
            "        [ 109,  190,  114, 1652,  265, 1070, 1301, 1641,  530,  236,\n",
            "          131, 1924],\n",
            "        [  68,  189,  104, 1724,  244, 1049, 1285, 1611,  515,  209,\n",
            "          120, 1903],\n",
            "        [ 122,  268,  174, 1828,  372, 1455, 1824, 1989,  726,  326,\n",
            "          135, 1920]],\n",
            "\n",
            "       [[  46,  186,   78, 1664,  275, 1158, 1615, 1672,  556,  246,\n",
            "          108, 1509],\n",
            "        [  53,  134,   45, 1188,  270, 1006, 1345, 1698,  585,  233,\n",
            "          125, 1524],\n",
            "        [  38,   91,   36,  881,  234, 1006, 1328, 1688,  541,  211,\n",
            "          100, 1498],\n",
            "        [  68,  134,   58, 1252,  263, 1054, 1285, 1626,  527,  233,\n",
            "          127, 1914],\n",
            "        [  64,  164,  120, 1577,  240, 1025, 1278, 1601,  507,  207,\n",
            "          116, 1896],\n",
            "        [ 123,  268,  143, 1800,  372, 1451, 1801, 1995,  717,  332,\n",
            "          131, 1908]],\n",
            "\n",
            "       [[  20,  148,   63, 1404,  201, 1023, 1295, 1340,  470,  198,\n",
            "          113, 1515],\n",
            "        [  80,  129,   64, 1217,  220,  940, 1300, 1330,  517,  202,\n",
            "          128, 1518],\n",
            "        [  38,  106,   71, 1230,  217,  925, 1291, 1292,  505,  201,\n",
            "          106, 1508],\n",
            "        [  38,  130,   66, 1297,  274, 1063, 1448, 1537,  546,  243,\n",
            "          129, 1913],\n",
            "        [  54,  131,   59, 1380,  251, 1036, 1435, 1532,  524,  223,\n",
            "          115, 1898],\n",
            "        [ 125,  200,   93, 1462,  331, 1298, 1751, 1942,  700,  323,\n",
            "          127, 1912]]], dtype=uint16))\n"
          ]
        }
      ]
    },
    {
      "cell_type": "code",
      "source": [
        "array_S2 = arrays_S2[index_S2]\n",
        "print(array_S2)"
      ],
      "metadata": {
        "colab": {
          "base_uri": "https://localhost:8080/"
        },
        "id": "qwZzkAVZcGwu",
        "outputId": "9fe87c9b-6cc5-4a02-bc97-826ac005d9bd"
      },
      "execution_count": 42,
      "outputs": [
        {
          "output_type": "stream",
          "name": "stdout",
          "text": [
            "[[[ 135  339  222 2948  654 2220 2818 3116 1532  643  173 3051]\n",
            "  [ 113  296  198 2342  658 1937 2583 2785 1496  718  181 3061]\n",
            "  [ 137  371  248 2650  639 1935 2568 2770 1480  694  163 3038]\n",
            "  [ 201  423  276 2965  673 1994 2531 3009 1634  728  172 3048]\n",
            "  [ 229  390  292 2447  655 1985 2534 2992 1623  731  157 3050]\n",
            "  [ 197  379  290 2581  711 2435 2970 3178 1607  726  182 3220]]\n",
            "\n",
            " [[ 148  362  218 2825  651 2182 2746 3102 1491  680  185 3057]\n",
            "  [ 137  282  227 2193  716 1982 2565 2989 1668  819  195 3074]\n",
            "  [ 175  403  296 2796  709 1981 2554 2983 1665  809  178 3055]\n",
            "  [ 227  479  337 3259  846 2393 2800 3197 1914  861  186 3067]\n",
            "  [ 209  409  340 2812  830 2382 2799 3188 1909  849  171 3053]\n",
            "  [ 200  389  279 3161  772 2665 3344 3582 1780  829  194 3234]]\n",
            "\n",
            " [[ 145  351  200 3135  624 2176 2743 3099 1468  656  164 3048]\n",
            "  [ 138  309  231 2486  705 1985 2557 2979 1653  806  175 3058]\n",
            "  [ 185  411  328 2760  706 1965 2539 2962 1648  798  157 3044]\n",
            "  [ 209  469  361 3241  828 2378 2802 3189 1914  845  164 3040]\n",
            "  [ 127  373  255 3120  815 2373 2785 3181 1894  852  149 3046]\n",
            "  [ 142  323  173 3449  773 2655 3336 3574 1770  830  174 3215]]\n",
            "\n",
            " [[ 150  317  201 3012  642 1995 2620 2978 1516  673  167 2955]\n",
            "  [ 146  358  257 2513  727 2132 2557 2983 1712  821  179 2972]\n",
            "  [ 201  418  317 2766  713 2130 2548 2968 1704  796  160 2944]\n",
            "  [ 212  466  324 3393  774 2650 3295 3620 1825  802  166 2949]\n",
            "  [ 140  407  210 3735  757 2651 3283 3620 1821  793  151 2944]\n",
            "  [ 173  376  207 3830  763 3056 3862 4142 1804  770  176 3418]]\n",
            "\n",
            " [[ 145  358  216 2942  632 1993 2605 2975 1504  656  157 2945]\n",
            "  [ 163  382  284 2794  728 2123 2560 2978 1695  803  170 2955]\n",
            "  [ 157  361  257 2723  700 2118 2550 2960 1685  804  150 2942]\n",
            "  [ 132  359  214 3341  761 2651 3287 3622 1810  788  155 2944]\n",
            "  [ 141  373  174 3844  753 2642 3277 3626 1806  790  138 2926]\n",
            "  [ 173  403  202 3998  754 3049 3861 4135 1792  749  162 3401]]\n",
            "\n",
            " [[ 142  352  222 2808  703 2257 2880 3227 1577  713  174 2944]\n",
            "  [ 172  399  290 2902  660 2114 2613 2985 1567  733  187 2948]\n",
            "  [ 138  320  209 2770  643 2111 2598 2972 1555  717  166 2946]\n",
            "  [ 122  264  164 2957  623 2335 2909 3254 1566  665  171 2951]\n",
            "  [ 142  301  195 3524  617 2317 2895 3249 1562  658  152 2939]\n",
            "  [ 170  353  222 3767  746 2862 3450 3776 1709  732  175 3421]]]\n"
          ]
        }
      ]
    }
  ]
}