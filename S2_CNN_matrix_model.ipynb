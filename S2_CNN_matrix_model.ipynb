{
  "nbformat": 4,
  "nbformat_minor": 0,
  "metadata": {
    "colab": {
      "provenance": [],
      "authorship_tag": "ABX9TyNZigcbOMexfLZCaqvK6vHj",
      "include_colab_link": true
    },
    "kernelspec": {
      "name": "python3",
      "display_name": "Python 3"
    },
    "language_info": {
      "name": "python"
    }
  },
  "cells": [
    {
      "cell_type": "markdown",
      "metadata": {
        "id": "view-in-github",
        "colab_type": "text"
      },
      "source": [
        "<a href=\"https://colab.research.google.com/github/adampotton/MDM3-Rep-3/blob/main/S2_CNN_matrix_model.ipynb\" target=\"_parent\"><img src=\"https://colab.research.google.com/assets/colab-badge.svg\" alt=\"Open In Colab\"/></a>"
      ]
    },
    {
      "cell_type": "code",
      "execution_count": 1,
      "metadata": {
        "colab": {
          "base_uri": "https://localhost:8080/"
        },
        "id": "_1PwhIeXHdQJ",
        "outputId": "4e56d912-a0a1-4dc6-d886-be0f512957e3"
      },
      "outputs": [
        {
          "output_type": "stream",
          "name": "stdout",
          "text": [
            "Mounted at /content/drive\n"
          ]
        }
      ],
      "source": [
        "import numpy as np\n",
        "from google.colab import files, drive\n",
        "import torch\n",
        "import torch.nn as nn\n",
        "import torchvision\n",
        "import torch.optim as optim\n",
        "from torch.utils.data import DataLoader, TensorDataset\n",
        "from torch.optim.lr_scheduler import ReduceLROnPlateau\n",
        "import matplotlib.pyplot as plt\n",
        "drive.mount('/content/drive')"
      ]
    },
    {
      "cell_type": "markdown",
      "source": [
        "#### Load NumPy arrays and convert labels array to a numbered labels array"
      ],
      "metadata": {
        "id": "xldyY39BKGDf"
      }
    },
    {
      "cell_type": "code",
      "source": [
        "train_images = np.load('/content/drive/My Drive/S2 Data/train_images.npy')\n",
        "train_names = np.load('/content/drive/My Drive/S2 Data/train_labels.npy')\n",
        "test_images = np.load('/content/drive/My Drive/S2 Data/test_images.npy')\n",
        "test_names = np.load('/content/drive/My Drive/S2 Data/test_labels.npy')\n",
        "val_images = np.load('/content/drive/My Drive/S2 Data/val_images.npy')\n",
        "val_names = np.load('/content/drive/My Drive/S2 Data/val_labels.npy')\n",
        "\n",
        "tree_names, train_labels = np.unique(train_names, return_inverse=True)\n",
        "tree_names, test_labels = np.unique(test_names, return_inverse=True)\n",
        "tree_names, val_labels = np.unique(val_names, return_inverse=True)\n",
        "\n",
        "train_images = train_images.astype(np.float32)\n",
        "test_images = test_images.astype(np.float32)\n",
        "val_images = val_images.astype(np.float32)\n",
        "\n",
        "\n",
        "mean = np.mean(np.concatenate([train_images, test_images, val_images], axis=0), axis=(0, 1, 2))\n",
        "std = np.std(np.concatenate([train_images, test_images, val_images], axis=0), axis=(0, 1, 2))\n",
        "\n",
        "train_images = (train_images - mean) / std\n",
        "test_images = (test_images - mean) / std\n",
        "val_images = (val_images - mean) / std\n"
      ],
      "metadata": {
        "id": "6MUeipg_HjRE"
      },
      "execution_count": 2,
      "outputs": []
    },
    {
      "cell_type": "markdown",
      "source": [
        "#### Create Data Loaders\n"
      ],
      "metadata": {
        "id": "XoafB2foKWYA"
      }
    },
    {
      "cell_type": "code",
      "source": [
        "# Convert NumPy arrays to PyTorch tensors\n",
        "train_images_tensor = torch.tensor(train_images, dtype=torch.float32)\n",
        "train_labels_tensor = torch.tensor(train_labels, dtype=torch.long)\n",
        "test_images_tensor = torch.tensor(test_images, dtype=torch.float32)\n",
        "test_labels_tensor = torch.tensor(test_labels, dtype=torch.long)\n",
        "val_images_tensor = torch.tensor(val_images, dtype=torch.float32)\n",
        "val_labels_tensor = torch.tensor(val_labels, dtype=torch.long)\n",
        "\n",
        "batch_size = 64\n",
        "\n",
        "# Create PyTorch datasets and dataloaders\n",
        "train_dataset = TensorDataset(train_images_tensor, train_labels_tensor)\n",
        "test_dataset = TensorDataset(test_images_tensor, test_labels_tensor)\n",
        "val_dataset = TensorDataset(val_images_tensor, val_labels_tensor)\n",
        "train_loader = DataLoader(train_dataset, batch_size=batch_size, shuffle=True)\n",
        "test_loader = DataLoader(test_dataset, batch_size=batch_size, shuffle=True)\n",
        "val_loader = DataLoader(val_dataset, batch_size=batch_size, shuffle=True)"
      ],
      "metadata": {
        "id": "REQRFpMoIrVw"
      },
      "execution_count": 3,
      "outputs": []
    },
    {
      "cell_type": "markdown",
      "source": [
        "#### Define the Model, and other paramaeters"
      ],
      "metadata": {
        "id": "pYrjWrBiysYg"
      }
    },
    {
      "cell_type": "code",
      "source": [
        "\n",
        "num_channels = 12\n",
        "num_classes = 19\n",
        "learning_rate = 0.001\n",
        "\n",
        "model = nn.Sequential(\n",
        "    nn.Conv2d(num_channels, 32, kernel_size=3, padding=1),\n",
        "    nn.BatchNorm2d(32),\n",
        "    nn.ReLU(),\n",
        "    nn.MaxPool2d(2),\n",
        "    nn.Dropout(0.2),\n",
        "\n",
        "    nn.Conv2d(32, 64, kernel_size=3, padding=1),\n",
        "    nn.BatchNorm2d(64),\n",
        "    nn.ReLU(),\n",
        "    nn.MaxPool2d(2),\n",
        "    nn.Dropout(0.2),\n",
        "\n",
        "    nn.Conv2d(64, 64, kernel_size=3, padding=1),\n",
        "    nn.BatchNorm2d(64),\n",
        "    nn.ReLU(),\n",
        "    nn.Flatten(),\n",
        "    nn.Linear(64 * 1 * 1, 256),\n",
        "    nn.ReLU(),\n",
        "    nn.Dropout(0.2),\n",
        "\n",
        "    nn.Linear(256, 128),\n",
        "    nn.ReLU(),\n",
        "    nn.Linear(128, num_classes)\n",
        ")\n",
        "\n",
        "device = torch.device(\"cuda\" if torch.cuda.is_available() else \"cpu\")\n",
        "model = model.to(device)\n",
        "\n",
        "optimizer = optim.AdamW(model.parameters(), lr=learning_rate, weight_decay=0.00005)\n",
        "criterion = nn.CrossEntropyLoss()\n",
        "scheduler = ReduceLROnPlateau(optimizer, mode='min', factor=0.8, patience=2)"
      ],
      "metadata": {
        "id": "vDNVj-0mkHwr"
      },
      "execution_count": 4,
      "outputs": []
    },
    {
      "cell_type": "markdown",
      "source": [
        "#### Train, test, and validate, plotting validation loss"
      ],
      "metadata": {
        "id": "LQvs2GxMyyIo"
      }
    },
    {
      "cell_type": "code",
      "source": [
        "def train():\n",
        "    model.train()\n",
        "    for images, labels in train_loader:\n",
        "        images = images.to(device)\n",
        "        labels = labels.to(device)\n",
        "\n",
        "        logits = model(images.permute(0, 3, 1, 2))\n",
        "\n",
        "        loss = criterion(logits, labels)\n",
        "\n",
        "        optimizer.zero_grad()\n",
        "        loss.backward()\n",
        "        optimizer.step()\n",
        "\n",
        "def validation(epoch):\n",
        "    model.eval()\n",
        "    with torch.no_grad():\n",
        "        val_loss = 0.0\n",
        "        correct = 0\n",
        "        total = 0\n",
        "        for images, labels in test_loader:\n",
        "            images = images.to(device)\n",
        "            labels = labels.to(device)\n",
        "\n",
        "            logits = model(images.permute(0, 3, 1, 2))\n",
        "\n",
        "            loss = criterion(logits, labels)\n",
        "            val_loss += loss.item()\n",
        "\n",
        "            predicted = torch.argmax(logits, dim=1)\n",
        "            correct += (predicted == labels).sum().item()\n",
        "            total += labels.size(0)\n",
        "            accuracy = 100 * correct / total\n",
        "\n",
        "        val_loss /= len(test_loader)\n",
        "        scheduler.step(val_loss)\n",
        "\n",
        "        if (epoch + 1) % 5 == 0:\n",
        "            print(f'Validation accuracy after {epoch+1} epochs: {accuracy:.2f}%')\n",
        "    return val_loss\n",
        "\n",
        "def test():\n",
        "    model.eval()\n",
        "    with torch.no_grad():\n",
        "        correct = 0\n",
        "        total = 0\n",
        "        for images, labels in test_loader:\n",
        "            images = images.to(device)\n",
        "            labels = labels.to(device)\n",
        "\n",
        "            logits = model(images.permute(0, 3, 1, 2))\n",
        "\n",
        "            predicted = torch.argmax(logits, dim=1)\n",
        "            correct += (predicted == labels).sum().item()\n",
        "            total += labels.size(0)\n",
        "            accuracy = 100 * correct / total\n",
        "        print(f'Test accuracy {100 * correct / total:.2f}%')\n",
        "\n",
        "num_epochs = 100\n",
        "val_losses = []\n",
        "for epoch in range(num_epochs):\n",
        "    train()\n",
        "    val_loss = validation(epoch)\n",
        "    val_losses.append(val_loss)\n",
        "test()\n",
        "\n",
        "plt.plot(val_losses, label='Validation Loss')\n",
        "plt.xlabel('Epoch')\n",
        "plt.ylabel('Loss')\n",
        "plt.title('Validation Loss over Epochs')\n",
        "plt.legend()\n",
        "plt.show()"
      ],
      "metadata": {
        "colab": {
          "base_uri": "https://localhost:8080/",
          "height": 829
        },
        "id": "9t58_XuLmovi",
        "outputId": "60818601-f765-4cee-931d-be7870b2c651"
      },
      "execution_count": 5,
      "outputs": [
        {
          "output_type": "stream",
          "name": "stdout",
          "text": [
            "Validation accuracy after 5 epochs: 28.57%\n",
            "Validation accuracy after 10 epochs: 37.29%\n",
            "Validation accuracy after 15 epochs: 36.80%\n",
            "Validation accuracy after 20 epochs: 38.50%\n",
            "Validation accuracy after 25 epochs: 40.68%\n",
            "Validation accuracy after 30 epochs: 41.89%\n",
            "Validation accuracy after 35 epochs: 43.34%\n",
            "Validation accuracy after 40 epochs: 45.28%\n",
            "Validation accuracy after 45 epochs: 42.62%\n",
            "Validation accuracy after 50 epochs: 44.55%\n",
            "Validation accuracy after 55 epochs: 45.76%\n",
            "Validation accuracy after 60 epochs: 45.28%\n",
            "Validation accuracy after 65 epochs: 45.04%\n",
            "Validation accuracy after 70 epochs: 45.28%\n",
            "Validation accuracy after 75 epochs: 45.52%\n",
            "Validation accuracy after 80 epochs: 45.76%\n",
            "Validation accuracy after 85 epochs: 45.76%\n",
            "Validation accuracy after 90 epochs: 46.00%\n",
            "Validation accuracy after 95 epochs: 46.25%\n",
            "Validation accuracy after 100 epochs: 46.25%\n",
            "Test accuracy 46.25%\n"
          ]
        },
        {
          "output_type": "display_data",
          "data": {
            "text/plain": [
              "<Figure size 640x480 with 1 Axes>"
            ],
            "image/png": "[encoded data removed]"
          },
          "metadata": {}
        }
      ]
    }
  ]
}