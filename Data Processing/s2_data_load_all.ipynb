{
  "nbformat": 4,
  "nbformat_minor": 0,
  "metadata": {
    "colab": {
      "provenance": [],
      "authorship_tag": "ABX9TyN2y8PauQop47tTIXAC/dsU",
      "include_colab_link": true
    },
    "kernelspec": {
      "name": "python3",
      "display_name": "Python 3"
    },
    "language_info": {
      "name": "python"
    }
  },
  "cells": [
    {
      "cell_type": "markdown",
      "metadata": {
        "id": "view-in-github",
        "colab_type": "text"
      },
      "source": [
        "<a href=\"https://colab.research.google.com/github/adampotton/MDM3-Rep-3/blob/main/Data%20Processing/s2_data_load_all.ipynb\" target=\"_parent\"><img src=\"https://colab.research.google.com/assets/colab-badge.svg\" alt=\"Open In Colab\"/></a>"
      ]
    },
    {
      "cell_type": "code",
      "execution_count": 2,
      "metadata": {
        "id": "_8fjPQQToFi6",
        "colab": {
          "base_uri": "https://localhost:8080/"
        },
        "outputId": "c30e774d-6350-4220-d862-0ae2aa0884ad"
      },
      "outputs": [
        {
          "output_type": "stream",
          "name": "stdout",
          "text": [
            "Drive already mounted at /content/drive; to attempt to forcibly remount, call drive.mount(\"/content/drive\", force_remount=True).\n"
          ]
        }
      ],
      "source": [
        "from google.colab import files, drive\n",
        "drive.mount('/content/drive')\n",
        "import os\n",
        "import numpy as np\n",
        "from tifffile import imread\n",
        "from sklearn.model_selection import train_test_split\n",
        "from PIL import Image\n",
        "from tqdm import tqdm\n"
      ]
    },
    {
      "cell_type": "code",
      "source": [
        "folder_path = '/content/drive/MyDrive/S2 Data'\n",
        "\n",
        "def load_tif_files(folder_path):\n",
        "    tif_arrays = []\n",
        "    labels = []\n",
        "    problematic_files = []\n",
        "    for root, dirs, files in os.walk(folder_path):\n",
        "        for file in tqdm(files, desc=\"Loading TIF files\"):\n",
        "            if file.endswith('.tif'):\n",
        "                file_path = os.path.join(root, file)\n",
        "                try:\n",
        "                    img = imread(file_path)\n",
        "                    img_array = np.array(img)\n",
        "                    tif_arrays.append(img_array)\n",
        "                    label = '_'.join(file.split('_')[:2])\n",
        "                    labels.append(label)\n",
        "                except Exception as e:\n",
        "                    problematic_files.append(file_path)\n",
        "                    print(f\"Error loading {file_path}: {e}\")\n",
        "    if problematic_files:\n",
        "        print(\"The following files couldn't be loaded properly:\")\n",
        "        for file_path in problematic_files:\n",
        "            print(file_path)\n",
        "    return tif_arrays, labels\n",
        "\n",
        "tif_arrays, labels = load_tif_files(folder_path)"
      ],
      "metadata": {
        "colab": {
          "base_uri": "https://localhost:8080/"
        },
        "id": "itx9-3-OqDQO",
        "outputId": "99064683-3032-45ce-a470-0aeeb29e864a"
      },
      "execution_count": 4,
      "outputs": [
        {
          "output_type": "stream",
          "name": "stderr",
          "text": [
            "Loading TIF files: 100%|██████████| 8/8 [00:00<00:00, 46603.38it/s]\n",
            "Loading TIF files: 100%|██████████| 212/212 [00:01<00:00, 131.05it/s]\n",
            "Loading TIF files: 100%|██████████| 214/214 [00:01<00:00, 192.12it/s]\n",
            "Loading TIF files: 100%|██████████| 246/246 [00:01<00:00, 194.61it/s]\n",
            "Loading TIF files: 100%|██████████| 219/219 [00:26<00:00,  8.38it/s]\n",
            "Loading TIF files: 100%|██████████| 205/205 [00:29<00:00,  6.97it/s]\n",
            "Loading TIF files: 100%|██████████| 207/207 [00:03<00:00, 66.55it/s] \n",
            "Loading TIF files: 100%|██████████| 304/304 [00:05<00:00, 57.64it/s] \n",
            "Loading TIF files: 100%|██████████| 203/203 [00:34<00:00,  5.95it/s]\n",
            "Loading TIF files:  22%|██▏       | 44/204 [00:03<00:03, 44.93it/s]"
          ]
        },
        {
          "output_type": "stream",
          "name": "stdout",
          "text": [
            "Error loading /content/drive/MyDrive/S2 Data/Quercus_robur/Quercus_robur_10_278244_BI_NLF.tif: failed to read 864 bytes, got 861\n"
          ]
        },
        {
          "output_type": "stream",
          "name": "stderr",
          "text": [
            "Loading TIF files: 100%|██████████| 204/204 [00:54<00:00,  3.75it/s]\n",
            "Loading TIF files: 100%|██████████| 206/206 [00:31<00:00,  6.55it/s]\n",
            "Loading TIF files: 100%|██████████| 202/202 [00:03<00:00, 62.10it/s] \n",
            "Loading TIF files: 100%|██████████| 202/202 [00:34<00:00,  5.82it/s]\n",
            "Loading TIF files: 100%|██████████| 204/204 [00:03<00:00, 58.83it/s] \n"
          ]
        },
        {
          "output_type": "stream",
          "name": "stdout",
          "text": [
            "Error loading /content/drive/MyDrive/S2 Data/Larix_decidua/Larix_decidua_3_37743_WEFL_NLF.tif: not a TIFF file b''\n"
          ]
        },
        {
          "output_type": "stream",
          "name": "stderr",
          "text": [
            "Loading TIF files: 100%|██████████| 232/232 [00:36<00:00,  6.27it/s]\n",
            "Loading TIF files: 100%|██████████| 202/202 [01:02<00:00,  3.24it/s]\n",
            "Loading TIF files: 100%|██████████| 207/207 [00:05<00:00, 37.73it/s] \n",
            "Loading TIF files: 100%|██████████| 250/250 [00:04<00:00, 62.24it/s] \n",
            "Loading TIF files: 100%|██████████| 201/201 [00:37<00:00,  5.42it/s]\n",
            "Loading TIF files: 100%|██████████| 211/211 [00:04<00:00, 50.29it/s] "
          ]
        },
        {
          "output_type": "stream",
          "name": "stdout",
          "text": [
            "The following files couldn't be loaded properly:\n",
            "/content/drive/MyDrive/S2 Data/Quercus_robur/Quercus_robur_10_278244_BI_NLF.tif\n",
            "/content/drive/MyDrive/S2 Data/Larix_decidua/Larix_decidua_3_37743_WEFL_NLF.tif\n"
          ]
        },
        {
          "output_type": "stream",
          "name": "stderr",
          "text": [
            "\n"
          ]
        }
      ]
    },
    {
      "cell_type": "code",
      "source": [
        "arrays_np = np.array(tif_arrays)\n",
        "labels_np = np.array(labels)\n",
        "\n",
        "train_images, rest_images, train_labels, rest_labels = train_test_split(\n",
        "    arrays_np, labels_np, test_size=0.2, random_state=2, stratify=labels_np\n",
        ")\n",
        "\n",
        "test_images, validation_images, test_labels, validation_labels = train_test_split(\n",
        "    rest_images, rest_labels, test_size=0.5, random_state=2, stratify=rest_labels\n",
        ")\n",
        "\n",
        "np.save('/content/drive/My Drive/S2 Data/train_images', train_images)\n",
        "np.save('/content/drive/My Drive/S2 Data/train_labels', train_labels)\n",
        "np.save('/content/drive/My Drive/S2 Data/test_images', test_images)\n",
        "np.save('/content/drive/My Drive/S2 Data/test_labels', test_labels)\n",
        "np.save('/content/drive/My Drive/S2 Data/val_images', validation_images)\n",
        "np.save('/content/drive/My Drive/S2 Data/val_labels', validation_labels)"
      ],
      "metadata": {
        "id": "a7jeUqhjvVSk"
      },
      "execution_count": null,
      "outputs": []
    }
  ]
}