{
  "nbformat": 4,
  "nbformat_minor": 0,
  "metadata": {
    "colab": {
      "provenance": [],
      "authorship_tag": "ABX9TyMfxJVetsep3elI/6cYC5xX",
      "include_colab_link": true
    },
    "kernelspec": {
      "name": "python3",
      "display_name": "Python 3"
    },
    "language_info": {
      "name": "python"
    }
  },
  "cells": [
    {
      "cell_type": "markdown",
      "metadata": {
        "id": "view-in-github",
        "colab_type": "text"
      },
      "source": [
        "<a href=\"https://colab.research.google.com/github/adampotton/MDM3-Rep-3/blob/main/Data%20Processing/s2_data_load_all.ipynb\" target=\"_parent\"><img src=\"https://colab.research.google.com/assets/colab-badge.svg\" alt=\"Open In Colab\"/></a>"
      ]
    },
    {
      "cell_type": "code",
      "execution_count": 1,
      "metadata": {
        "id": "_8fjPQQToFi6",
        "colab": {
          "base_uri": "https://localhost:8080/"
        },
        "outputId": "d7fed2f5-6beb-4d89-d9fa-b653add10fb3"
      },
      "outputs": [
        {
          "output_type": "stream",
          "name": "stdout",
          "text": [
            "Drive already mounted at /content/drive; to attempt to forcibly remount, call drive.mount(\"/content/drive\", force_remount=True).\n"
          ]
        }
      ],
      "source": [
        "from google.colab import files, drive\n",
        "drive.mount('/content/drive')\n",
        "import os\n",
        "import numpy as np\n",
        "from tifffile import imread\n",
        "from sklearn.model_selection import train_test_split\n",
        "from tqdm import tqdm\n"
      ]
    },
    {
      "cell_type": "code",
      "source": [
        "folder_path = '/content/drive/MyDrive/S2 Data All'\n",
        "\n",
        "def load_tif_files(folder_path):\n",
        "    tif_arrays = []\n",
        "    labels = []\n",
        "    problematic_files = []\n",
        "    numbers = []\n",
        "    for root, dirs, files in os.walk(folder_path):\n",
        "        for file in tqdm(files, desc=\"Loading TIF files\"):\n",
        "            if file.endswith('.tif'):\n",
        "                file_path = os.path.join(root, file)\n",
        "                try:\n",
        "                    img = imread(file_path)\n",
        "                    img_array = np.array(img)\n",
        "                    tif_arrays.append(img_array)\n",
        "                    label = '_'.join(file.split('_')[:2])\n",
        "                    labels.append(label)\n",
        "                    number = file.split('_WEFL')[0].split('_')[3]\n",
        "                    numbers.append(number)\n",
        "                except Exception as e:\n",
        "                    problematic_files.append(file_path)\n",
        "                    print(f\"Error loading {file_path}: {e}\")\n",
        "    if problematic_files:\n",
        "        print(\"The following files couldn't be loaded properly:\")\n",
        "        for file_path in problematic_files:\n",
        "            print(file_path)\n",
        "    return tif_arrays, labels, numbers\n",
        "\n",
        "tif_arrays, labels, numbers = load_tif_files(folder_path)"
      ],
      "metadata": {
        "colab": {
          "base_uri": "https://localhost:8080/"
        },
        "id": "itx9-3-OqDQO",
        "outputId": "08dc7bf9-d0b6-4c9d-f029-6eb6267f827e"
      },
      "execution_count": 47,
      "outputs": [
        {
          "output_type": "stream",
          "name": "stderr",
          "text": [
            "Loading TIF files: 100%|██████████| 3/3 [00:00<00:00, 4309.22it/s]\n",
            "Loading TIF files: 100%|██████████| 984/984 [00:13<00:00, 72.62it/s] \n",
            "Loading TIF files: 100%|██████████| 2821/2821 [01:09<00:00, 40.31it/s] \n",
            "Loading TIF files: 100%|██████████| 2562/2562 [01:15<00:00, 33.72it/s] \n",
            "Loading TIF files: 100%|██████████| 2821/2821 [01:13<00:00, 38.22it/s] \n",
            "Loading TIF files: 100%|██████████| 6459/6459 [03:02<00:00, 35.36it/s] \n",
            "Loading TIF files: 100%|██████████| 2634/2634 [01:09<00:00, 38.11it/s] \n",
            "Loading TIF files: 100%|██████████| 1359/1359 [00:27<00:00, 49.70it/s] \n",
            "Loading TIF files: 100%|██████████| 1748/1748 [00:36<00:00, 47.87it/s] \n",
            "Loading TIF files: 100%|██████████| 5783/5783 [02:34<00:00, 37.35it/s] \n",
            "Loading TIF files: 100%|██████████| 421/421 [00:03<00:00, 119.98it/s]\n",
            "Loading TIF files: 100%|██████████| 500/500 [00:05<00:00, 98.49it/s] \n",
            "Loading TIF files: 100%|██████████| 6591/6591 [02:43<00:00, 40.33it/s] \n",
            "Loading TIF files: 100%|██████████| 464/464 [00:04<00:00, 105.64it/s]\n",
            "Loading TIF files: 100%|██████████| 304/304 [00:02<00:00, 114.37it/s]\n",
            "Loading TIF files: 100%|██████████| 2691/2691 [01:07<00:00, 39.71it/s] \n",
            "Loading TIF files: 100%|██████████| 2608/2608 [00:57<00:00, 45.19it/s] \n",
            "Loading TIF files: 100%|██████████| 3453/3453 [01:30<00:00, 38.17it/s] \n",
            "Loading TIF files: 100%|██████████| 1841/1841 [00:35<00:00, 51.45it/s] \n",
            "Loading TIF files: 100%|██████████| 212/212 [00:01<00:00, 149.44it/s]\n"
          ]
        }
      ]
    },
    {
      "cell_type": "code",
      "source": [
        "arrays_np = np.array(tif_arrays)\n",
        "labels_np = np.array(labels)\n",
        "numbers_np = np.array(numbers)\n",
        "\n",
        "np.save('/content/drive/My Drive/S2 Data All/arrays', arrays_np)\n",
        "np.save('/content/drive/My Drive/S2 Data All/labels', labels_np)\n",
        "np.save('/content/drive/My Drive/S2 Data All/numbers', numbers_np)\n"
      ],
      "metadata": {
        "id": "a7jeUqhjvVSk"
      },
      "execution_count": 53,
      "outputs": []
    },
    {
      "cell_type": "code",
      "source": [],
      "metadata": {
        "id": "Yy022Lupb21s",
        "outputId": "77237a6f-4e8a-4295-8d72-bb90d1acacc6",
        "colab": {
          "base_uri": "https://localhost:8080/"
        }
      },
      "execution_count": 52,
      "outputs": [
        {
          "output_type": "stream",
          "name": "stdout",
          "text": [
            "19968\n"
          ]
        }
      ]
    }
  ]
}