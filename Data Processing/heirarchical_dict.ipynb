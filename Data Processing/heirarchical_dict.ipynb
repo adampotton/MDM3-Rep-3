{
 "cells": [
  {
   "cell_type": "markdown",
   "metadata": {},
   "source": [
    "### Importing Datapoints.json which maps correspondence between the aerial and sentinal data"
   ]
  },
  {
   "cell_type": "code",
   "execution_count": 5,
   "metadata": {},
   "outputs": [
    {
     "name": "stderr",
     "output_type": "stream",
     "text": [
      "Downloading...\n",
      "From: https://drive.google.com/uc?id=11wecjBfgWAi1L0zDTB_XZmV9SyLrJl8R\n",
      "To: C:\\Users\\bench\\OneDrive\\Documents\\GitHub\\MDM3-Rep-3\\data\\datapoints.json\n",
      "100%|██████████| 1.12M/1.12M [00:00<00:00, 12.8MB/s]\n"
     ]
    },
    {
     "data": {
      "text/plain": [
       "'C:\\\\Users\\\\bench\\\\OneDrive\\\\Documents\\\\GitHub\\\\MDM3-Rep-3\\\\data\\\\datapoints.json'"
      ]
     },
     "execution_count": 5,
     "metadata": {},
     "output_type": "execute_result"
    }
   ],
   "source": [
    "import gdown\n",
    "\n",
    "gdown.download(r\"https://drive.google.com/file/d/11wecjBfgWAi1L0zDTB_XZmV9SyLrJl8R/view?usp=drive_link\", r'C:\\Users\\bench\\OneDrive\\Documents\\GitHub\\MDM3-Rep-3\\data\\datapoints.json',fuzzy=True)"
   ]
  },
  {
   "cell_type": "markdown",
   "metadata": {},
   "source": [
    "### Loading the json file into a dictionary"
   ]
  },
  {
   "cell_type": "code",
   "execution_count": 23,
   "metadata": {},
   "outputs": [
    {
     "name": "stdout",
     "output_type": "stream",
     "text": [
      "c:\\Users\\bench\\OneDrive\\Documents\\GitHub\\MDM3-Rep-3\\Data Processing\n",
      "['85511' 'Quercus_robur' '15926' '85511' 'Quercus_robur' '16813']\n",
      "species correspondence [ True  True  True  True  True  True  True  True  True  True  True  True\n",
      "  True  True  True  True  True  True  True]\n",
      "{'Abies_alba': {'image_num': [], 'index': []}, 'Acer_pseudoplatanus': {'image_num': [], 'index': []}, 'Alnus_spec.': {'image_num': [], 'index': []}, 'Betula_spec.': {'image_num': [], 'index': []}, 'Fagus_sylvatica': {'image_num': [], 'index': []}, 'Fraxinus_excelsior': {'image_num': [], 'index': []}, 'Larix_decidua': {'image_num': [], 'index': []}, 'Larix_kaempferi': {'image_num': [], 'index': []}, 'Picea_abies': {'image_num': [], 'index': []}, 'Pinus_nigra': {'image_num': [], 'index': []}, 'Pinus_strobus': {'image_num': [], 'index': []}, 'Pinus_sylvestris': {'image_num': [], 'index': []}, 'Populus_spec.': {'image_num': [], 'index': []}, 'Prunus_spec.': {'image_num': [], 'index': []}, 'Pseudotsuga_menziesii': {'image_num': [], 'index': []}, 'Quercus_petraea': {'image_num': [], 'index': []}, 'Quercus_robur': {'image_num': [], 'index': []}, 'Quercus_rubra': {'image_num': [], 'index': []}, 'Tilia_spec.': {'image_num': [], 'index': []}}\n",
      "dict_keys(['Abies_alba', 'Acer_pseudoplatanus', 'Alnus_spec.', 'Betula_spec.', 'Fagus_sylvatica', 'Fraxinus_excelsior', 'Larix_decidua', 'Larix_kaempferi', 'Picea_abies', 'Pinus_nigra', 'Pinus_strobus', 'Pinus_sylvestris', 'Populus_spec.', 'Prunus_spec.', 'Pseudotsuga_menziesii', 'Quercus_petraea', 'Quercus_robur', 'Quercus_rubra', 'Tilia_spec.'])\n"
     ]
    }
   ],
   "source": [
    "import json\n",
    "import os\n",
    "import numpy as np\n",
    "\n",
    "#json file contains data in the form of [[aerial_image_number aerial_species aerial_index S2_image_number S2_species S2_image_number]...]\n",
    "\n",
    "print(os.getcwd())\n",
    "with open(r'..\\data\\datapoints.json') as file:\n",
    "    data = json.load(file)\n",
    "\n",
    "data = np.array(data)\n",
    "print(data[0])\n",
    "aerial_species = np.unique(data[:, 1])\n",
    "sentinel_species = np.unique(data[:, 4])\n",
    "#checking that both data sources have the same species\n",
    "print(\"species correspondence\",aerial_species==sentinel_species)\n",
    "\n",
    "#creating a dictionary to store the data\n",
    "aerial_species_dict = {species: {\"image_num\":[],\"index\":[]} for species in aerial_species}\n",
    "sentinel_species_dict = {species: {\"image_num\":[],\"index\":[]} for species in sentinel_species}\n",
    "\n",
    "print(aerial_species_dict)\n",
    "\n",
    "for row in data:\n",
    "    sentinel_species_dict[row[1]][\"image_num\"].append(row[0])\n",
    "    sentinel_species_dict[row[1]][\"index\"].append(row[2])\n",
    "    aerial_species_dict[row[4]][\"image_num\"].append(row[3])\n",
    "    aerial_species_dict[row[4]][\"index\"].append(row[5])\n",
    "\n",
    "\n",
    "\n",
    "\n"
   ]
  },
  {
   "cell_type": "markdown",
   "metadata": {},
   "source": [
    "### creating heirarchicy"
   ]
  },
  {
   "cell_type": "code",
   "execution_count": null,
   "metadata": {},
   "outputs": [],
   "source": [
    "hierarchy_dict =   {\"broadleaf\": {\"oak\": {'Quercus_rubra': {},\n",
    "                                          'Quercus_robur': {},\n",
    "                                          'Quercus_petraea': {}},\n",
    "                                  \"beech\": {'Fagus_sylvatica': {}},\n",
    "                                  \"longlived_deciduous\": {'Acer_pseudoplatanus': {},\n",
    "                                                          'Fraxinus_excelsior': {},\n",
    "                                                          'Tilia_spec.': {},\n",
    "                                                          'Prunus_spec.': {}},\n",
    "                                  \"shortlived_deciduous\": {}},\n",
    "                    \"conifer\": {\"spruce\": {},\n",
    "                                \"fir\": {},\n",
    "                                \"pine\": {},\n",
    "                                \"larch\": {}}}\n"
   ]
  }
 ],
 "metadata": {
  "kernelspec": {
   "display_name": "Python 3",
   "language": "python",
   "name": "python3"
  },
  "language_info": {
   "codemirror_mode": {
    "name": "ipython",
    "version": 3
   },
   "file_extension": ".py",
   "mimetype": "text/x-python",
   "name": "python",
   "nbconvert_exporter": "python",
   "pygments_lexer": "ipython3",
   "version": "3.10.11"
  }
 },
 "nbformat": 4,
 "nbformat_minor": 2
}
