{
  "cells": [
    {
      "cell_type": "markdown",
      "metadata": {
        "id": "view-in-github",
        "colab_type": "text"
      },
      "source": [
        "<a href=\"https://colab.research.google.com/github/adampotton/MDM3-Rep-3/blob/main/training/Ensemble_Model/ensemble_training_A.ipynb\" target=\"_parent\"><img src=\"https://colab.research.google.com/assets/colab-badge.svg\" alt=\"Open In Colab\"/></a>"
      ]
    },
    {
      "cell_type": "code",
      "source": [
        "from google.colab import files, drive\n",
        "drive.mount('/content/drive')\n",
        "import torch\n",
        "import torch.nn as nn\n",
        "import numpy as np\n",
        "import json"
      ],
      "metadata": {
        "id": "bUDt-xdZ_XkB",
        "outputId": "73915055-f576-478c-c636-b695b46d7128",
        "colab": {
          "base_uri": "https://localhost:8080/"
        }
      },
      "execution_count": 1,
      "outputs": [
        {
          "output_type": "stream",
          "name": "stdout",
          "text": [
            "Drive already mounted at /content/drive; to attempt to forcibly remount, call drive.mount(\"/content/drive\", force_remount=True).\n"
          ]
        }
      ]
    },
    {
      "cell_type": "markdown",
      "metadata": {
        "id": "JFSjzAHO-SOX"
      },
      "source": [
        "# Loading trained Aerial and sentinel models"
      ]
    },
    {
      "cell_type": "code",
      "execution_count": 2,
      "metadata": {
        "id": "kOEEvHKm-SOY"
      },
      "outputs": [],
      "source": [
        "aerial_model = torch.load(\"/content/drive/My Drive/Aerial Data/training_run_3_filtered_data.pth\")\n",
        "sentinel_model = torch.load(\"/content/drive/My Drive/S2 Data All/training_run_1_filtered_data_19.pth\")"
      ]
    },
    {
      "cell_type": "markdown",
      "metadata": {
        "id": "NS_AYtcB-SOZ"
      },
      "source": [
        "# Loading training and validation data\n",
        "Data has been pre sorted so that there is correspondence between the aerial and Sentinel data."
      ]
    },
    {
      "cell_type": "code",
      "execution_count": 3,
      "metadata": {
        "id": "LEY3mxaI-SOa"
      },
      "outputs": [],
      "source": [
        "with open('/content/drive/My Drive/Aerial Data/Both Imagery/datapoints.json', 'r') as f:\n",
        "    data = json.load(f)\n",
        "\n",
        "S2_arrays = np.load('/content/drive/My Drive/Aerial Data/Both Imagery/arrays.npy')\n",
        "S2_arrays_cut = S2_arrays[[item[5] for item in data]]\n",
        "\n",
        "# A_arrays = np.load('/content/drive/My Drive/Aerial Data/Both Imagery/aerial_99_images.npy')\n",
        "# A_arrays_cut = A_arrays[[item[2] for item in data]]"
      ]
    },
    {
      "cell_type": "markdown",
      "metadata": {
        "id": "IM0cbsgN-SOb"
      },
      "source": [
        "# Defining Ensemble Model Structure"
      ]
    },
    {
      "cell_type": "code",
      "execution_count": null,
      "metadata": {
        "id": "S416f1-g-SOb"
      },
      "outputs": [],
      "source": [
        "\n",
        "class EnsembleModel(nn.Module):\n",
        "    #output size is the number of category\n",
        "    def __init__(self, sentinel_model, aerial_model, output_size):\n",
        "        super().__init__()\n",
        "        self.sentinel_model = sentinel_model\n",
        "        self.aerial_model = aerial_model\n",
        "        #Linear ensemble layer which we want to train\n",
        "        self.classifier = nn.Linear(output_size*2, output_size)\n",
        "\n",
        "    def forward(self, sentinel_image, aerial_image):\n",
        "        pred1 = self.sentinel_model(sentinel_image)\n",
        "        pred2 = self.aerial_model(aerial_image)\n",
        "        #verify that dimensions are correct here\n",
        "        joined_preds = torch.cat((pred1,pred2), dim=1)\n",
        "        out = self.classifier(joined_preds)\n",
        "        return out\n",
        "\n",
        "ensemble_model = EnsembleModel(sentinel_model,aerial_model,output_size=19)\n",
        "\n",
        "for param in ensemble_model.parameters():\n",
        "    param.requires_grad = False\n",
        "\n",
        "for param in ensemble_model.classifier.parameters():\n",
        "    param.requires_grad = True\n",
        "\n",
        "device\n",
        "ensemble_model = ensemble_model.to(device)"
      ]
    },
    {
      "cell_type": "markdown",
      "metadata": {
        "id": "KzTMxx9Z-SOc"
      },
      "source": [
        "# Training the ensemble model"
      ]
    },
    {
      "cell_type": "code",
      "execution_count": null,
      "metadata": {
        "id": "Egmw5lBU-SOc"
      },
      "outputs": [],
      "source": [
        "def train_model(model, dataloaders, criterion, optimizer, num_epochs=25, is_inception=True, tensorboard_writer=None, early_stopping=False, patience=5, stop_tol=1e-3):\n",
        "    early_stop = False\n",
        "\n",
        "    if tensorboard_writer is not None:\n",
        "        use_tensorboard = True\n",
        "        writer = tensorboard_writer\n",
        "    else:\n",
        "        use_tensorboard = False\n",
        "\n",
        "    since = time.time()\n",
        "\n",
        "    val_acc_history = []\n",
        "    val_loss_history = []\n",
        "    train_acc_history = []\n",
        "    train_loss_history = []\n",
        "\n",
        "    best_model_wts = copy.deepcopy(model.state_dict())\n",
        "    best_acc = 0.0\n",
        "    final_epoch = num_epochs\n",
        "\n",
        "    for epoch in range(num_epochs):\n",
        "        if early_stop:\n",
        "            break\n",
        "        else:\n",
        "            print('Epoch {}/{}'.format(epoch, num_epochs - 1))\n",
        "            print('-' * 10)\n",
        "\n",
        "            # Each epoch has a training and validation phase\n",
        "            for phase in ['train', 'val']:\n",
        "                if phase == 'train':\n",
        "                    model.train()  # Set model to training mode\n",
        "                else:\n",
        "                    model.eval()   # Set model to evaluate mode\n",
        "\n",
        "                running_loss = 0.0\n",
        "                running_corrects = 0\n",
        "\n",
        "                # Iterate over data.\n",
        "                for inputs, labels in dataloaders[phase]:\n",
        "                    inputs = inputs.to(device)\n",
        "                    labels = labels.to(device)\n",
        "\n",
        "                    # zero the parameter gradients\n",
        "                    optimizer.zero_grad()\n",
        "\n",
        "                    # forward\n",
        "                    # track history if only in train\n",
        "                    with torch.set_grad_enabled(phase == 'train'):\n",
        "                        # Get model outputs and calculate loss\n",
        "                        # Special case for inception because in training it has an auxiliary output. In train\n",
        "                        #   mode we calculate the loss by summing the final output and the auxiliary output\n",
        "                        #   but in testing we only consider the final output.\n",
        "                        if is_inception and phase == 'train':\n",
        "                            # From https://discuss.pytorch.org/t/how-to-optimize-inception-model-with-auxiliary-classifiers/7958\n",
        "                            outputs, aux_outputs = model(inputs)\n",
        "                            loss1 = criterion(outputs, labels)\n",
        "                            loss2 = criterion(aux_outputs, labels)\n",
        "                            loss = loss1 + 0.4*loss2\n",
        "                        else:\n",
        "                            outputs = model(inputs)\n",
        "                            loss = criterion(outputs, labels)\n",
        "\n",
        "                        _, preds = torch.max(outputs, 1)\n",
        "\n",
        "                        # backward + optimize only if in training phase\n",
        "                        if phase == 'train':\n",
        "                            loss.backward()\n",
        "                            optimizer.step()\n",
        "                            if use_tensorboard:\n",
        "                                writer.add_scalar('Training Loss', loss, epoch)\n",
        "                                writer.add_scalar('Training Accuracy', torch.sum(preds == labels.data).double() / len(labels), epoch)\n",
        "\n",
        "                    # statistics\n",
        "                    running_loss += loss.item() * inputs.size(0)\n",
        "                    running_corrects += torch.sum(preds == labels.data)\n",
        "\n",
        "                epoch_loss = running_loss / len(dataloaders[phase].dataset)\n",
        "                epoch_acc = running_corrects.double() / len(dataloaders[phase].dataset)\n",
        "\n",
        "                print('{} Loss: {:.4f} Acc: {:.4f}'.format(phase, epoch_loss, epoch_acc))\n",
        "\n",
        "                if phase == 'train':\n",
        "                    train_acc_history.append(epoch_acc.item())\n",
        "                    train_loss_history.append(epoch_loss)\n",
        "                else:\n",
        "                    #deep copying the model if its performance has improved\n",
        "                    if epoch_acc > best_acc:\n",
        "                        best_acc = epoch_acc\n",
        "                        best_model_wts = copy.deepcopy(model.state_dict())\n",
        "\n",
        "                    #saving validation performance\n",
        "                    val_acc_history.append(epoch_acc.item())\n",
        "                    val_loss_history.append(epoch_loss)\n",
        "                    #early stopping\n",
        "                    if early_stopping:\n",
        "                        if len(val_loss_history) > patience:\n",
        "                            if (np.mean(val_loss_history[-patience:]) < stop_tol) or (np.all(np.array(val_loss_history[-8:]) > min(val_loss_history))):\n",
        "                                print(\"Early stopping activated\")\n",
        "                                early_stop = True\n",
        "                                final_epoch = epoch\n",
        "\n",
        "                    if use_tensorboard:\n",
        "                        writer.add_scalar('Validation Accuracy', epoch_acc, epoch)\n",
        "                        writer.add_scalar('Validation Loss', epoch_loss, epoch)\n",
        "\n",
        "            print(\"epoch {} complete\".format(epoch))\n",
        "\n",
        "    time_elapsed = time.time() - since\n",
        "    print('Training complete in {:.0f}m {:.0f}s'.format(time_elapsed // 60, time_elapsed % 60))\n",
        "    print('Best val Acc: {:4f}'.format(best_acc))\n",
        "\n",
        "    if use_tensorboard:\n",
        "        #making sure all data is written to disk\n",
        "        writer.flush()\n",
        "\n",
        "    # load best model weights and return best model\n",
        "    model.load_state_dict(best_model_wts)\n",
        "    convergence_dict = {'train_acc': train_acc_history,\n",
        "                        'train_loss': train_loss_history,\n",
        "                        'val_acc': val_acc_history,\n",
        "                        'val_loss': val_loss_history}\n",
        "\n",
        "    if early_stopping:\n",
        "        return model, convergence_dict, final_epoch\n",
        "    else:\n",
        "        return model, convergence_dict"
      ]
    }
  ],
  "metadata": {
    "language_info": {
      "name": "python"
    },
    "colab": {
      "provenance": [],
      "gpuType": "T4",
      "include_colab_link": true
    },
    "kernelspec": {
      "name": "python3",
      "display_name": "Python 3"
    },
    "accelerator": "GPU"
  },
  "nbformat": 4,
  "nbformat_minor": 0
}