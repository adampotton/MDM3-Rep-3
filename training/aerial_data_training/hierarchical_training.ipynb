{
 "cells": [
  {
   "cell_type": "markdown",
   "metadata": {},
   "source": [
    "# Hierarchical Training of inception V3 model on aerial data\n",
    "instead of training a model to classify images into species directly, we will train a model to first classify them into leaf type, then two models which classify broadleaf and pineneedle trees into their respective families. This should hopefully result in a more general and more accurate classification"
   ]
  },
  {
   "cell_type": "markdown",
   "metadata": {},
   "source": [
    "### Loading in the aerial hierarchy dictionary and image data"
   ]
  },
  {
   "cell_type": "code",
   "execution_count": 23,
   "metadata": {},
   "outputs": [],
   "source": [
    "import numpy as np\n",
    "import json\n",
    "\n",
    "#loading hierarchy data\n",
    "with open(r'..\\..\\data\\aerial_hierarchy.json') as file:\n",
    "    aerial_hierarchy = json.load(file)\n",
    "\n",
    "with open(r'..\\..\\data\\sentinel_hierarchy.json') as file:\n",
    "    sentinel_hierarchy = json.load(file)"
   ]
  },
  {
   "cell_type": "code",
   "execution_count": null,
   "metadata": {},
   "outputs": [],
   "source": [
    "\n",
    "#loading image data\n",
    "aerial_images = np.load(r\"C:\\Users\\bench\\OneDrive\\Documents\\EMAT Year 3\\MDM3\\Phase C\\ratio_adjusted_aerial_dataset\\aerial_99_images.npy\")"
   ]
  },
  {
   "cell_type": "code",
   "execution_count": 24,
   "metadata": {},
   "outputs": [
    {
     "name": "stdout",
     "output_type": "stream",
     "text": [
      "(17618, 304, 304, 4)\n",
      "17522\n",
      "[17698, 17277, 15942, 5158, 1194, 6014, 17793, 14126, 1746, 14030, 2316]\n",
      "17793\n"
     ]
    }
   ],
   "source": [
    "print(aerial_images.shape)\n",
    "print(max(aerial_hierarchy[\"broadleaf\"][\"oak\"][\"Quercus_rubra\"][\"index\"]))\n",
    "\n",
    "max_list = []\n",
    "for family in sentinel_hierarchy[\"broadleaf\"]:\n",
    "    for species in sentinel_hierarchy[\"broadleaf\"][family]:\n",
    "        index_list = sentinel_hierarchy[\"broadleaf\"][family][species][\"index\"]\n",
    "        index_list = list(map(int, index_list))\n",
    "        max_list.append(max(index_list))\n",
    "        \n",
    "\n",
    "print(max_list)\n",
    "print(max(max_list))\n",
    "\n",
    "\n"
   ]
  },
  {
   "cell_type": "markdown",
   "metadata": {},
   "source": [
    "# Training the initial binary classifier"
   ]
  },
  {
   "cell_type": "markdown",
   "metadata": {},
   "source": [
    "### Important training parameters"
   ]
  },
  {
   "cell_type": "code",
   "execution_count": null,
   "metadata": {},
   "outputs": [],
   "source": [
    "import torch\n",
    "num_classes = 2\n",
    "feature_extract = True"
   ]
  },
  {
   "cell_type": "code",
   "execution_count": 36,
   "metadata": {},
   "outputs": [
    {
     "name": "stdout",
     "output_type": "stream",
     "text": [
      "[0 0 0 0 0 0 0 0 0 0 0 0 0 0 0 0 0 0 0 0 0 0 0 0 0 0 0 0 0 0 0 0 0 0 0 0 0\n",
      " 0 0 0 0 0 0 0 0 0 0 0 0 0 0 0 0 0 0 0 0 0 0 0 0 0 0 0 0 0 0 0 0 0 0 0 0 0\n",
      " 0 0 0 0 0 0 0 0 0 0 0 0 0 0 0 0 0 0 0 0 0 0 0 0 0 0 0 0 0 0 0 0 0 0 0 0 0\n",
      " 0 0 0 0 0 0 0 0 0 0 0 0 0 0 0 0 0 0 0 0 0 0 0 0 0 0 0 0 0 0 0 0 0 0 0 0 0\n",
      " 0 0 0 0 0 0 0 0 0 0 0 0 0 0 0 0 0 0 0 0 0 0 0 0 0 0 0 0 0 0 0 0 0 0 0 0 0\n",
      " 0 0 0 0 0 0 0 0 0 0 0 0 0 0 0 0 0 0 0 0 0 0 0 0 0 0 0 0 0 0 0 0 0 0 0 0 0\n",
      " 0 0 0 0 0 0 0 0 0 0 0 0 0 0 0 0 0 0 0 0 0 0 0 0 0 0 0 0 0 0 0 0 0 0 0 0 0\n",
      " 0 0 0 0 0 0 0 0 0 0 0 0 0 0 0 0 0 0 0 0 0 0 0 0 0 0 0 0 0 0 0 0 0 0 0 0 0\n",
      " 0 0 0 0 0 0 0 0 0 0 0 0 0 0 0 0 0 0 0 0 0 0 0 0 0 0 0 0 0 0 0 0 0 0 0 0 0\n",
      " 0 0 0 0 0 0 0 0 0 0 0 0 0 0 0 0 0 0 0 0 0 0 0 0 0 0 0 0 0 0 0 0 0 0 0 0 0\n",
      " 0 0 0 0 0 0 0 0 0 0 0 0 0 0 0 1 1 1 1 1 1 1 1 1 1 1 1 1 1 1 1 1 1 1 1 1 1\n",
      " 1 1 1 1 1 1 1 1 1 1 1 1 1 1 1 1 1 1 1 1 1 1 1 1 1 1 1 1 1 1 1 1 1 1 1 1 1\n",
      " 1 1 1 1 1 1 1 1 1 1 1 0 1 1 1 1 1 1 1 1 1 1 1 1 1 1 1 1 1 1 1 1 1 1 1 1 1\n",
      " 1 1 0 1 1 1 1 1 1 1 1 0 1 1 1 1 1 1 1 1 1 1 1 1 1 1 1 1 1 1 1 1 1 1 1 1 1\n",
      " 1 1 1 1 1 1 1 1 1 1 1 1 1 1 0 1 1 1 1 1 1 1 1 1 1 1 1 1 1 1 1 1 1 1 1 1 1\n",
      " 1 1 1 1 1 1 1 1 0 1 1 1 1 1 1 1 1 1 1 1 1 1 1 1 1 1 1 1 1 1 1 1 1 1 1 1 1\n",
      " 1 1 1 1 1 1 1 1 1 0 1 0 1 1 1 1 1 1 1 1 1 1 1 1 1 1 1 1 1 1 1 1 0 0 1 1 1\n",
      " 1 0 1 1 1 1 1 1 1 1 0 1 0 1 1 1 1 1 1 1 1 1 1 1 1 1 1 1 1 1 1 1 1 1 1 1 1\n",
      " 1 0 0 1 1 1 1 1 1 1 1 1 1 1 1 1 1 1 1 1 1 1 1 1 1 1 1 1 1 1 1 1 1 1 1 1 1\n",
      " 1 0 1 1 1 1 1 1 1 1 1 1 1 1 1 1 1 1 1 1 1 1 1 1 1 1 1 1 1 1 1 1 1 1 1 1 1\n",
      " 1 0 1 1 0 1 1 1 1 1 1 1 1 1 1 1 1 1 1 1 1 1 1 1 1 1 1 1 1 1 1 1 1 1 1 1 1\n",
      " 1 1 1 1 1 1 1 1 1 1 1 1 1 1 1 1 1 1 1 1 1 1 1 1 0 1 1 1 1 1 1 1 1 1 1 1 1\n",
      " 1 1 1 1 1 1 1 1 1 1 1 1 1 1 1 1 1 1 1 1 1 1 1 1 1 1 1 1 1 1 1 1 1 1 1 1 1\n",
      " 1 1 1 1 1 1 1 1 1 1 1 1 1 1 1 1 1 1 1 1 1 1 1 0 1 1 1 1 1 1 1 1 1 1 1 1 1\n",
      " 1 1 1 1 1 1 1 1 1 1 1 1 1 1 1 1 1 1 1 1 0 1 1 1 1 1 1 1 1 1 1 1 1 1 1 1 1\n",
      " 1 1 1 1 1 1 1 1 1 1 1 1 1 1 1 1 1 1 1 1 1 1 1 1 1 1 1 1 1 1 1 1 0 1 1 1 1\n",
      " 1 1 1 1 1 1 1 1 1 1 1 1 1 1 1 1 1 1 1 1 1 1 1 1 1 1 0 1 1 1 1 1 1 1 1 1 1\n",
      " 1]\n"
     ]
    }
   ],
   "source": [
    "# forming binary labels\n",
    "foliage_labels = np.zeros((aerial_images.shape[0],), dtype=int)\n",
    "# 1 represents broadleaf and zero conifers\n",
    "for family in aerial_hierarchy[\"broadleaf\"]:\n",
    "    for species in aerial_hierarchy[\"broadleaf\"][family]:\n",
    "        for index in aerial_hierarchy[\"broadleaf\"][family][species][\"index\"]:\n",
    "            foliage_labels[int(index)] = 1\n",
    "\n",
    "print(foliage_labels[0:1000])"
   ]
  },
  {
   "cell_type": "markdown",
   "metadata": {},
   "source": [
    "### forming train val test split"
   ]
  },
  {
   "cell_type": "code",
   "execution_count": null,
   "metadata": {},
   "outputs": [],
   "source": [
    "from sklearn.model_selection import train_test_split\n",
    "\n",
    "train_images, rest_images, train_labels, rest_labels = train_test_split(aerial_images, foliage_labels, \n",
    "                                                                        test_size=0.2, random_state=2, \n",
    "                                                                        stratify=foliage_labels)\n",
    "\n",
    "test_images, val_images, test_labels, val_labels = train_test_split(rest_images, rest_labels, \n",
    "                                                                    test_size=0.5, random_state=2, \n",
    "                                                                    stratify=foliage_labels)"
   ]
  },
  {
   "cell_type": "markdown",
   "metadata": {},
   "source": [
    "### initialising model"
   ]
  },
  {
   "cell_type": "code",
   "execution_count": null,
   "metadata": {},
   "outputs": [],
   "source": [
    "from training_funcs import initialize_inception_model\n",
    "\n",
    "foliage_model, input_size = initialize_inception_model(num_classes, feature_extract, use_pretrained=True)\n",
    "\n",
    "#setting grads for training\n",
    "if feature_extract:\n",
    "  params_to_update = []\n",
    "  for name,param in model_ft.named_parameters():\n",
    "    if param.requires_grad==True:\n",
    "      params_to_update.append(param)\n",
    "      print(\"\\t\",name)\n",
    "else:\n",
    "  raise Exception(\"not yet implemented\")\n",
    "  params_to_update = model_ft.parameters()"
   ]
  },
  {
   "cell_type": "markdown",
   "metadata": {},
   "source": [
    "### Creating data loaders"
   ]
  },
  {
   "cell_type": "code",
   "execution_count": null,
   "metadata": {},
   "outputs": [],
   "source": [
    "from training_funcs import CustomDataset\n",
    "    \n",
    "#creating training and validation pytorch datasets\n",
    "training_dataset = CustomDataset(train_images, train_labels, input_size)\n",
    "val_dataset = CustomDataset(val_images, train_labels, input_size)"
   ]
  },
  {
   "cell_type": "code",
   "execution_count": null,
   "metadata": {},
   "outputs": [],
   "source": [
    "batch_size = 32\n",
    "# Create training and validation dataloaders\n",
    "dataloaders_dict = {'train': torch.utils.data.DataLoader(training_dataset, batch_size=batch_size, shuffle=True),\n",
    "                    'val': torch.utils.data.DataLoader(val_dataset, batch_size=batch_size, shuffle=True)}\n"
   ]
  },
  {
   "cell_type": "markdown",
   "metadata": {},
   "source": [
    "### Training the binary model"
   ]
  },
  {
   "cell_type": "code",
   "execution_count": null,
   "metadata": {},
   "outputs": [],
   "source": [
    "#checking the params we are training\n",
    "params_to_update = []\n",
    "for name,param in foliage_model.named_parameters():\n",
    "  if param.requires_grad==True:\n",
    "    params_to_update.append(param)\n",
    "    print(\"\\t\",name)\n",
    "\n",
    "print(\"number of parameters to train =\",len(params_to_update))\n",
    "for i, param in enumerate(params_to_update):\n",
    "  print(\"parameter {}:\".format(i),param.shape)"
   ]
  },
  {
   "cell_type": "code",
   "execution_count": null,
   "metadata": {},
   "outputs": [],
   "source": [
    "from torch import nn\n",
    "from torch import optim\n",
    "\n",
    "device = torch.device(\"cuda:0\" if torch.cuda.is_available() else \"cpu\")\n",
    "print(\"sending model to\",device)\n",
    "# Send the model to GPU\n",
    "model_ft = foliage_model.to(device)\n",
    "# Setup the loss fxn\n",
    "criterion = nn.CrossEntropyLoss()\n",
    "#initializing optimizer with hyperparameters determined from the random search\n",
    "optimizer_ft = optim.AdamW(params_to_update, lr=0.0005, betas=(0.9, 0.995), weight_decay=0.015)\n",
    "#setting the number of epochs\n",
    "num_epochs = 300"
   ]
  },
  {
   "cell_type": "code",
   "execution_count": null,
   "metadata": {},
   "outputs": [],
   "source": [
    "from training_funcs import train_model\n",
    "#fixing random seed for consistent results\n",
    "torch.manual_seed(0)\n",
    "\n",
    "# Train and evaluate\n",
    "model_ft, convergence_dict = train_model(model_ft,\n",
    "                             dataloaders_dict,\n",
    "                             criterion,\n",
    "                             optimizer_ft,\n",
    "                             num_epochs=num_epochs,\n",
    "                             is_inception=True,\n",
    "                             tensorboard_writer=None,\n",
    "                             early_stopping=False,\n",
    "                             device=device)\n",
    "\n",
    "torch.save(model_ft.state_dict(),'foliage_model.pth')"
   ]
  }
 ],
 "metadata": {
  "kernelspec": {
   "display_name": "Python 3",
   "language": "python",
   "name": "python3"
  },
  "language_info": {
   "codemirror_mode": {
    "name": "ipython",
    "version": 3
   },
   "file_extension": ".py",
   "mimetype": "text/x-python",
   "name": "python",
   "nbconvert_exporter": "python",
   "pygments_lexer": "ipython3",
   "version": "3.10.11"
  }
 },
 "nbformat": 4,
 "nbformat_minor": 2
}
