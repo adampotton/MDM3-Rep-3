{
  "nbformat": 4,
  "nbformat_minor": 0,
  "metadata": {
    "colab": {
      "provenance": [],
      "authorship_tag": "ABX9TyMrs0Ai7i5a6KlAy0nYJv7h",
      "include_colab_link": true
    },
    "kernelspec": {
      "name": "python3",
      "display_name": "Python 3"
    },
    "language_info": {
      "name": "python"
    }
  },
  "cells": [
    {
      "cell_type": "markdown",
      "metadata": {
        "id": "view-in-github",
        "colab_type": "text"
      },
      "source": [
        "<a href=\"https://colab.research.google.com/github/adampotton/MDM3-Rep-3/blob/main/inception_v3_aerial_trianing.ipynb\" target=\"_parent\"><img src=\"https://colab.research.google.com/assets/colab-badge.svg\" alt=\"Open In Colab\"/></a>"
      ]
    },
    {
      "cell_type": "markdown",
      "source": [
        "# Mounting Google Drive and imports"
      ],
      "metadata": {
        "id": "ArnHp1gGfHfL"
      }
    },
    {
      "cell_type": "code",
      "source": [
        "from google.colab import files, drive\n",
        "drive.mount('/content/drive')\n",
        "import os\n",
        "import numpy as np"
      ],
      "metadata": {
        "id": "YdLp-2Wbdo6U",
        "outputId": "3594543e-6040-44a8-9479-fb8618ae75f2",
        "colab": {
          "base_uri": "https://localhost:8080/"
        }
      },
      "execution_count": 1,
      "outputs": [
        {
          "output_type": "stream",
          "name": "stdout",
          "text": [
            "Mounted at /content/drive\n"
          ]
        }
      ]
    },
    {
      "cell_type": "markdown",
      "source": [
        "# Loading Numpy Data Arrays"
      ],
      "metadata": {
        "id": "oPg69w9fcGf-"
      }
    },
    {
      "cell_type": "code",
      "source": [
        "#if you get an error the first time just run it again\n",
        "os.chdir('../../../')\n",
        "!pwd\n",
        "os.chdir('content')\n",
        "os.chdir(r'drive/MyDrive/Aerial Data')\n",
        "print(os.listdir())\n",
        "\n",
        "train_labels = np.load('train_labels.npy')\n",
        "train_images = np.load('train_images.npy')\n",
        "test_labels = np.load('test_labels.npy')\n",
        "test_images = np.load('test_images.npy')\n",
        "val_labels = np.load('val_labels.npy')\n",
        "val_images = np.load('val_images.npy')"
      ],
      "metadata": {
        "id": "WM3cA_OMfD8X",
        "outputId": "7b7e936e-3aec-4398-b6f0-1f44f37ad352",
        "colab": {
          "base_uri": "https://localhost:8080/"
        }
      },
      "execution_count": 30,
      "outputs": [
        {
          "output_type": "stream",
          "name": "stdout",
          "text": [
            "/\n",
            "['aerial_pseudotsuga_menziesii', 'aerial_picea_abies', 'aerial_betula_spec', 'aerial_abies_alba', 'aerial_pinus_nigra', 'aerial_larix_decidua', 'aerial_larix_kaempferi', 'aerial_pinus_strobus', 'aerial_pinus_sylvestris', 'aerial_fraxinus_excelsior', 'aerial_fagus_sylvatica', 'aerial_acer_pseudoplatanus', 'aerial_quercus_robur', 'aerial_quercus_petraea', 'aerial_quercus_rubra', 'aerial_tilia_spec', 'aerial_populus_spec', 'aerial_prunus_spec', 'aerial_alnus_spec', 'train_images.npy', 'train_labels.npy', 'test_images.npy', 'test_labels.npy', 'val_images.npy', 'val_labels.npy']\n"
          ]
        }
      ]
    },
    {
      "cell_type": "code",
      "source": [
        "#inspecting data\n",
        "print(\"train data:\")\n",
        "print(\"images shape:\")\n",
        "print(train_images.shape)\n",
        "print(\"labels shape:\")\n",
        "print(train_labels.shape)\n",
        "\n",
        "print(\"test data:\")\n",
        "print(\"images shape:\")\n",
        "print(test_images.shape)\n",
        "print(\"labels shape:\")\n",
        "print(test_labels.shape)\n",
        "\n",
        "print(\"val data:\")\n",
        "print(\"images shape:\")\n",
        "print(val_images.shape)\n",
        "print(\"labels shape:\")\n",
        "print(val_labels.shape)"
      ],
      "metadata": {
        "id": "9zFEOXefkLVV",
        "outputId": "710984f4-feea-47ff-b79d-949429023057",
        "colab": {
          "base_uri": "https://localhost:8080/"
        }
      },
      "execution_count": 31,
      "outputs": [
        {
          "output_type": "stream",
          "name": "stdout",
          "text": [
            "train data:\n",
            "images shape:\n",
            "(3688, 304, 304, 4)\n",
            "labels shape:\n",
            "(3688,)\n",
            "test data:\n",
            "images shape:\n",
            "(461, 304, 304, 4)\n",
            "labels shape:\n",
            "(461,)\n",
            "val data:\n",
            "images shape:\n",
            "(462, 304, 304, 4)\n",
            "labels shape:\n",
            "(462,)\n"
          ]
        }
      ]
    },
    {
      "cell_type": "markdown",
      "source": [
        "# loading Inception_v3 CNN Architecture"
      ],
      "metadata": {
        "id": "5LYL1utZkATF"
      }
    },
    {
      "cell_type": "code",
      "source": [],
      "metadata": {
        "id": "6S4SDSbCj_EE"
      },
      "execution_count": null,
      "outputs": []
    }
  ]
}